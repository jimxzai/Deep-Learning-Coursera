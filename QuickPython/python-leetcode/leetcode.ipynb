{
 "cells": [
  {
   "cell_type": "code",
   "execution_count": 4,
   "metadata": {
    "collapsed": true
   },
   "outputs": [
    {
     "name": "stdout",
     "output_type": "stream",
     "text": [
      "[1, 2]\n"
     ]
    }
   ],
   "source": [
    "### To Sum\n",
    "###\n",
    "class Solution:\n",
    "    def twoSum(self, nums, target: int):\n",
    "        # two point\n",
    "        nums_index = [(v, index) for index, v in enumerate(nums)]\n",
    "        nums_index.sort()\n",
    "        begin, end = 0, len(nums) - 1\n",
    "        while begin < end:\n",
    "            curr = nums_index[begin][0] + nums_index[end][0]\n",
    "            if curr == target:\n",
    "                return [nums_index[begin][1], nums_index[end][1]]\n",
    "            elif curr < target:\n",
    "                begin += 1\n",
    "            else:\n",
    "                end -= 1\n",
    "                \n",
    "if __name__ == '__main__':\n",
    "    # begin\n",
    "    s = Solution()\n",
    "    print (s.twoSum([3, 2, 4], 6))"
   ]
  },
  {
   "cell_type": "code",
   "execution_count": null,
   "metadata": {},
   "outputs": [],
   "source": []
  }
 ],
 "metadata": {
  "kernelspec": {
   "display_name": "Python 2",
   "language": "python",
   "name": "python2"
  },
  "language_info": {
   "codemirror_mode": {
    "name": "ipython",
    "version": 2
   },
   "file_extension": ".py",
   "mimetype": "text/x-python",
   "name": "python",
   "nbconvert_exporter": "python",
   "pygments_lexer": "ipython2",
   "version": "2.7.6"
  }
 },
 "nbformat": 4,
 "nbformat_minor": 0
}
