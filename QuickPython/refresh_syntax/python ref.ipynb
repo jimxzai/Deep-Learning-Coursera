{
  "cells": [
    {
      "cell_type": "markdown",
      "metadata": {
        "pycharm": {}
      },
      "source": [
        "# Python Quick Reference by [Data School](http://www.dataschool.io/)\n",
        "\n",
        "**Related:** [GitHub repository](https://github.com/justmarkham/python-reference) and [blog post](http://www.dataschool.io/python-quick-reference/)\n",
        "\n",
        "## Table of contents\n",
        "\n",
        "1. \u003ca href\u003d\"#1.-Imports\"\u003eImports\u003c/a\u003e\n",
        "2. \u003ca href\u003d\"#2.-Data-Types\"\u003eData Types\u003c/a\u003e\n",
        "3. \u003ca href\u003d\"#3.-Math\"\u003eMath\u003c/a\u003e\n",
        "4. \u003ca href\u003d\"#4.-Comparisons-and-Boolean-Operations\"\u003eComparisons and Boolean Operations\u003c/a\u003e\n",
        "5. \u003ca href\u003d\"#5.-Conditional-Statements\"\u003eConditional Statements\u003c/a\u003e\n",
        "6. \u003ca href\u003d\"#6.-Lists\"\u003eLists\u003c/a\u003e\n",
        "7. \u003ca href\u003d\"#7.-Tuples\"\u003eTuples\u003c/a\u003e\n",
        "8. \u003ca href\u003d\"#8.-Strings\"\u003eStrings\u003c/a\u003e\n",
        "9. \u003ca href\u003d\"#9.-Dictionaries\"\u003eDictionaries\u003c/a\u003e\n",
        "10. \u003ca href\u003d\"#10.-Sets\"\u003eSets\u003c/a\u003e\n",
        "11. \u003ca href\u003d\"#11.-Defining-Functions\"\u003eDefining Functions\u003c/a\u003e\n",
        "12. \u003ca href\u003d\"#12.-Anonymous-%28Lambda%29-Functions\"\u003eAnonymous (Lambda) Functions\u003c/a\u003e\n",
        "13. \u003ca href\u003d\"#13.-For-Loops-and-While-Loops\"\u003eFor Loops and While Loops\u003c/a\u003e\n",
        "14. \u003ca href\u003d\"#14.-Comprehensions\"\u003eComprehensions\u003c/a\u003e\n",
        "15. \u003ca href\u003d\"#15.-Map-and-Filter\"\u003eMap and Filter\u003c/a\u003e"
      ]
    },
    {
      "cell_type": "markdown",
      "metadata": {
        "pycharm": {}
      },
      "source": [
        "## 1. Imports"
      ]
    },
    {
      "cell_type": "code",
      "execution_count": 217,
      "metadata": {
        "collapsed": false,
        "pycharm": {}
      },
      "outputs": [
        {
          "data": {
            "text/plain": [
              "5.0"
            ]
          },
          "execution_count": 217,
          "metadata": {},
          "output_type": "execute_result"
        }
      ],
      "source": "# Table of contents¶\n# Imports\n# Data Types\n# Math\n# Comparisons and Boolean Operations\n# Conditional Statements\n# Lists\n# Tuples\n# Strings\n# Dictionaries\n# Sets\n# Defining Functions\n# Anonymous (Lambda) Functions\n# For Loops and While Loops\n# Comprehensions\n# Map and Filter\n\n\n# \u0027generic import\u0027 of math module\nimport math\nmath.sqrt(25)"
    },
    {
      "cell_type": "code",
      "execution_count": 218,
      "metadata": {
        "collapsed": false,
        "pycharm": {}
      },
      "outputs": [
        {
          "data": {
            "text/plain": [
              "5.0"
            ]
          },
          "execution_count": 218,
          "metadata": {},
          "output_type": "execute_result"
        }
      ],
      "source": [
        "# import a function\n",
        "from math import sqrt\n",
        "sqrt(25)    # no longer have to reference the module"
      ]
    },
    {
      "cell_type": "code",
      "execution_count": 219,
      "metadata": {
        "collapsed": true,
        "pycharm": {}
      },
      "outputs": [],
      "source": [
        "# import multiple functions at once\n",
        "from math import cos, floor"
      ]
    },
    {
      "cell_type": "code",
      "execution_count": 220,
      "metadata": {
        "collapsed": true,
        "pycharm": {}
      },
      "outputs": [],
      "source": [
        "# import all functions in a module (generally discouraged)\n",
        "from csv import *"
      ]
    },
    {
      "cell_type": "code",
      "execution_count": 221,
      "metadata": {
        "collapsed": true,
        "pycharm": {}
      },
      "outputs": [],
      "source": [
        "# define an alias\n",
        "import datetime as dt"
      ]
    },
    {
      "cell_type": "code",
      "execution_count": 222,
      "metadata": {
        "collapsed": false,
        "pycharm": {}
      },
      "outputs": [
        {
          "name": "stdout",
          "output_type": "stream",
          "text": [
            "[\u0027__doc__\u0027, \u0027__loader__\u0027, \u0027__name__\u0027, \u0027__package__\u0027, \u0027__spec__\u0027, \u0027acos\u0027, \u0027acosh\u0027, \u0027asin\u0027, \u0027asinh\u0027, \u0027atan\u0027, \u0027atan2\u0027, \u0027atanh\u0027, \u0027ceil\u0027, \u0027copysign\u0027, \u0027cos\u0027, \u0027cosh\u0027, \u0027degrees\u0027, \u0027e\u0027, \u0027erf\u0027, \u0027erfc\u0027, \u0027exp\u0027, \u0027expm1\u0027, \u0027fabs\u0027, \u0027factorial\u0027, \u0027floor\u0027, \u0027fmod\u0027, \u0027frexp\u0027, \u0027fsum\u0027, \u0027gamma\u0027, \u0027gcd\u0027, \u0027hypot\u0027, \u0027inf\u0027, \u0027isclose\u0027, \u0027isfinite\u0027, \u0027isinf\u0027, \u0027isnan\u0027, \u0027ldexp\u0027, \u0027lgamma\u0027, \u0027log\u0027, \u0027log10\u0027, \u0027log1p\u0027, \u0027log2\u0027, \u0027modf\u0027, \u0027nan\u0027, \u0027pi\u0027, \u0027pow\u0027, \u0027radians\u0027, \u0027sin\u0027, \u0027sinh\u0027, \u0027sqrt\u0027, \u0027tan\u0027, \u0027tanh\u0027, \u0027tau\u0027, \u0027trunc\u0027]\n"
          ]
        }
      ],
      "source": [
        "# show all functions in math module\n",
        "print(dir(math))"
      ]
    },
    {
      "cell_type": "markdown",
      "metadata": {
        "pycharm": {}
      },
      "source": [
        "[\u003ca href\u003d\"#Python-Quick-Reference-by-Data-School\"\u003eBack to top\u003c/a\u003e]"
      ]
    },
    {
      "cell_type": "markdown",
      "metadata": {
        "pycharm": {}
      },
      "source": [
        "## 2. Data Types\n",
        "\n",
        "**Determine the type of an object:**"
      ]
    },
    {
      "cell_type": "code",
      "execution_count": 223,
      "metadata": {
        "collapsed": false,
        "pycharm": {}
      },
      "outputs": [
        {
          "data": {
            "text/plain": [
              "int"
            ]
          },
          "execution_count": 223,
          "metadata": {},
          "output_type": "execute_result"
        }
      ],
      "source": [
        "type(2)"
      ]
    },
    {
      "cell_type": "code",
      "execution_count": 224,
      "metadata": {
        "collapsed": false,
        "pycharm": {}
      },
      "outputs": [
        {
          "data": {
            "text/plain": [
              "float"
            ]
          },
          "execution_count": 224,
          "metadata": {},
          "output_type": "execute_result"
        }
      ],
      "source": [
        "type(2.0)"
      ]
    },
    {
      "cell_type": "code",
      "execution_count": 225,
      "metadata": {
        "collapsed": false,
        "pycharm": {}
      },
      "outputs": [
        {
          "data": {
            "text/plain": [
              "str"
            ]
          },
          "execution_count": 225,
          "metadata": {},
          "output_type": "execute_result"
        }
      ],
      "source": [
        "type(\u0027two\u0027)"
      ]
    },
    {
      "cell_type": "code",
      "execution_count": 226,
      "metadata": {
        "collapsed": false,
        "pycharm": {}
      },
      "outputs": [
        {
          "data": {
            "text/plain": [
              "bool"
            ]
          },
          "execution_count": 226,
          "metadata": {},
          "output_type": "execute_result"
        }
      ],
      "source": [
        "type(True)"
      ]
    },
    {
      "cell_type": "code",
      "execution_count": 227,
      "metadata": {
        "collapsed": false,
        "pycharm": {}
      },
      "outputs": [
        {
          "data": {
            "text/plain": [
              "NoneType"
            ]
          },
          "execution_count": 227,
          "metadata": {},
          "output_type": "execute_result"
        }
      ],
      "source": [
        "type(None)"
      ]
    },
    {
      "cell_type": "markdown",
      "metadata": {
        "pycharm": {}
      },
      "source": [
        "**Check if an object is of a given type:**"
      ]
    },
    {
      "cell_type": "code",
      "execution_count": 228,
      "metadata": {
        "collapsed": false,
        "pycharm": {}
      },
      "outputs": [
        {
          "data": {
            "text/plain": [
              "False"
            ]
          },
          "execution_count": 228,
          "metadata": {},
          "output_type": "execute_result"
        }
      ],
      "source": [
        "isinstance(2.0, int)"
      ]
    },
    {
      "cell_type": "code",
      "execution_count": 229,
      "metadata": {
        "collapsed": false,
        "pycharm": {}
      },
      "outputs": [
        {
          "data": {
            "text/plain": [
              "True"
            ]
          },
          "execution_count": 229,
          "metadata": {},
          "output_type": "execute_result"
        }
      ],
      "source": [
        "isinstance(2.0, (int, float))"
      ]
    },
    {
      "cell_type": "markdown",
      "metadata": {
        "pycharm": {}
      },
      "source": [
        "**Convert an object to a given type:**"
      ]
    },
    {
      "cell_type": "code",
      "execution_count": 230,
      "metadata": {
        "collapsed": false,
        "pycharm": {}
      },
      "outputs": [
        {
          "data": {
            "text/plain": [
              "2.0"
            ]
          },
          "execution_count": 230,
          "metadata": {},
          "output_type": "execute_result"
        }
      ],
      "source": [
        "float(2)"
      ]
    },
    {
      "cell_type": "code",
      "execution_count": 231,
      "metadata": {
        "collapsed": false,
        "pycharm": {}
      },
      "outputs": [
        {
          "data": {
            "text/plain": [
              "2"
            ]
          },
          "execution_count": 231,
          "metadata": {},
          "output_type": "execute_result"
        }
      ],
      "source": [
        "int(2.9)"
      ]
    },
    {
      "cell_type": "code",
      "execution_count": 232,
      "metadata": {
        "collapsed": false,
        "pycharm": {}
      },
      "outputs": [
        {
          "data": {
            "text/plain": [
              "\u00272.9\u0027"
            ]
          },
          "execution_count": 232,
          "metadata": {},
          "output_type": "execute_result"
        }
      ],
      "source": [
        "str(2.9)"
      ]
    },
    {
      "cell_type": "markdown",
      "metadata": {
        "pycharm": {}
      },
      "source": [
        "**Zero, `None`, and empty containers are converted to `False`:**"
      ]
    },
    {
      "cell_type": "code",
      "execution_count": 233,
      "metadata": {
        "collapsed": false,
        "pycharm": {}
      },
      "outputs": [
        {
          "data": {
            "text/plain": [
              "False"
            ]
          },
          "execution_count": 233,
          "metadata": {},
          "output_type": "execute_result"
        }
      ],
      "source": [
        "bool(0)"
      ]
    },
    {
      "cell_type": "code",
      "execution_count": 234,
      "metadata": {
        "collapsed": false,
        "pycharm": {}
      },
      "outputs": [
        {
          "data": {
            "text/plain": [
              "False"
            ]
          },
          "execution_count": 234,
          "metadata": {},
          "output_type": "execute_result"
        }
      ],
      "source": [
        "bool(None)"
      ]
    },
    {
      "cell_type": "code",
      "execution_count": 235,
      "metadata": {
        "collapsed": false,
        "pycharm": {}
      },
      "outputs": [
        {
          "data": {
            "text/plain": [
              "False"
            ]
          },
          "execution_count": 235,
          "metadata": {},
          "output_type": "execute_result"
        }
      ],
      "source": [
        "bool(\u0027\u0027)    # empty string"
      ]
    },
    {
      "cell_type": "code",
      "execution_count": 236,
      "metadata": {
        "collapsed": false,
        "pycharm": {}
      },
      "outputs": [
        {
          "data": {
            "text/plain": [
              "False"
            ]
          },
          "execution_count": 236,
          "metadata": {},
          "output_type": "execute_result"
        }
      ],
      "source": [
        "bool([])    # empty list"
      ]
    },
    {
      "cell_type": "code",
      "execution_count": 237,
      "metadata": {
        "collapsed": false,
        "pycharm": {}
      },
      "outputs": [
        {
          "data": {
            "text/plain": [
              "False"
            ]
          },
          "execution_count": 237,
          "metadata": {},
          "output_type": "execute_result"
        }
      ],
      "source": [
        "bool({})    # empty dictionary"
      ]
    },
    {
      "cell_type": "markdown",
      "metadata": {
        "pycharm": {}
      },
      "source": [
        "**Non-empty containers and non-zeros are converted to `True`:**"
      ]
    },
    {
      "cell_type": "code",
      "execution_count": 238,
      "metadata": {
        "collapsed": false,
        "pycharm": {}
      },
      "outputs": [
        {
          "data": {
            "text/plain": [
              "True"
            ]
          },
          "execution_count": 238,
          "metadata": {},
          "output_type": "execute_result"
        }
      ],
      "source": [
        "bool(2)"
      ]
    },
    {
      "cell_type": "code",
      "execution_count": 239,
      "metadata": {
        "collapsed": false,
        "pycharm": {}
      },
      "outputs": [
        {
          "data": {
            "text/plain": [
              "True"
            ]
          },
          "execution_count": 239,
          "metadata": {},
          "output_type": "execute_result"
        }
      ],
      "source": [
        "bool(\u0027two\u0027)"
      ]
    },
    {
      "cell_type": "code",
      "execution_count": 240,
      "metadata": {
        "collapsed": false,
        "pycharm": {}
      },
      "outputs": [
        {
          "data": {
            "text/plain": [
              "True"
            ]
          },
          "execution_count": 240,
          "metadata": {},
          "output_type": "execute_result"
        }
      ],
      "source": [
        "bool([2])"
      ]
    },
    {
      "cell_type": "markdown",
      "metadata": {
        "pycharm": {}
      },
      "source": [
        "[\u003ca href\u003d\"#Python-Quick-Reference-by-Data-School\"\u003eBack to top\u003c/a\u003e]"
      ]
    },
    {
      "cell_type": "markdown",
      "metadata": {
        "pycharm": {}
      },
      "source": [
        "## 3. Math"
      ]
    },
    {
      "cell_type": "code",
      "execution_count": 241,
      "metadata": {
        "collapsed": false,
        "pycharm": {}
      },
      "outputs": [
        {
          "data": {
            "text/plain": [
              "14"
            ]
          },
          "execution_count": 241,
          "metadata": {},
          "output_type": "execute_result"
        }
      ],
      "source": [
        "10 + 4"
      ]
    },
    {
      "cell_type": "code",
      "execution_count": 242,
      "metadata": {
        "collapsed": false,
        "pycharm": {}
      },
      "outputs": [
        {
          "data": {
            "text/plain": [
              "6"
            ]
          },
          "execution_count": 242,
          "metadata": {},
          "output_type": "execute_result"
        }
      ],
      "source": [
        "10 - 4"
      ]
    },
    {
      "cell_type": "code",
      "execution_count": 243,
      "metadata": {
        "collapsed": false,
        "pycharm": {}
      },
      "outputs": [
        {
          "data": {
            "text/plain": [
              "40"
            ]
          },
          "execution_count": 243,
          "metadata": {},
          "output_type": "execute_result"
        }
      ],
      "source": [
        "10 * 4"
      ]
    },
    {
      "cell_type": "code",
      "execution_count": 244,
      "metadata": {
        "collapsed": false,
        "pycharm": {}
      },
      "outputs": [
        {
          "data": {
            "text/plain": [
              "10000"
            ]
          },
          "execution_count": 244,
          "metadata": {},
          "output_type": "execute_result"
        }
      ],
      "source": [
        "10 ** 4    # exponent"
      ]
    },
    {
      "cell_type": "code",
      "execution_count": 245,
      "metadata": {
        "collapsed": false,
        "pycharm": {}
      },
      "outputs": [
        {
          "data": {
            "text/plain": [
              "1"
            ]
          },
          "execution_count": 245,
          "metadata": {},
          "output_type": "execute_result"
        }
      ],
      "source": [
        "5 % 4      # modulo - computes the remainder"
      ]
    },
    {
      "cell_type": "code",
      "execution_count": 246,
      "metadata": {
        "collapsed": false,
        "scrolled": true,
        "pycharm": {}
      },
      "outputs": [
        {
          "data": {
            "text/plain": [
              "2.5"
            ]
          },
          "execution_count": 246,
          "metadata": {},
          "output_type": "execute_result"
        }
      ],
      "source": [
        "# Python 2: returns 2 (because both types are \u0027int\u0027)\n",
        "# Python 3: returns 2.5\n",
        "10 / 4"
      ]
    },
    {
      "cell_type": "code",
      "execution_count": 247,
      "metadata": {
        "collapsed": false,
        "scrolled": true,
        "pycharm": {}
      },
      "outputs": [
        {
          "data": {
            "text/plain": [
              "2.5"
            ]
          },
          "execution_count": 247,
          "metadata": {},
          "output_type": "execute_result"
        }
      ],
      "source": [
        "10 / float(4)"
      ]
    },
    {
      "cell_type": "code",
      "execution_count": 248,
      "metadata": {
        "collapsed": true,
        "pycharm": {}
      },
      "outputs": [],
      "source": [
        "# force \u0027/\u0027 in Python 2 to perform \u0027true division\u0027 (unnecessary in Python 3)\n",
        "from __future__ import division"
      ]
    },
    {
      "cell_type": "code",
      "execution_count": 249,
      "metadata": {
        "collapsed": false,
        "pycharm": {}
      },
      "outputs": [
        {
          "data": {
            "text/plain": [
              "2.5"
            ]
          },
          "execution_count": 249,
          "metadata": {},
          "output_type": "execute_result"
        }
      ],
      "source": [
        "10 / 4     # true division"
      ]
    },
    {
      "cell_type": "code",
      "execution_count": 250,
      "metadata": {
        "collapsed": false,
        "pycharm": {}
      },
      "outputs": [
        {
          "data": {
            "text/plain": [
              "2"
            ]
          },
          "execution_count": 250,
          "metadata": {},
          "output_type": "execute_result"
        }
      ],
      "source": [
        "10 // 4    # floor division"
      ]
    },
    {
      "cell_type": "markdown",
      "metadata": {
        "pycharm": {}
      },
      "source": [
        "[\u003ca href\u003d\"#Python-Quick-Reference-by-Data-School\"\u003eBack to top\u003c/a\u003e]"
      ]
    },
    {
      "cell_type": "markdown",
      "metadata": {
        "pycharm": {}
      },
      "source": [
        "## 4. Comparisons and Boolean Operations"
      ]
    },
    {
      "cell_type": "markdown",
      "metadata": {
        "pycharm": {}
      },
      "source": [
        "**Assignment statement:**"
      ]
    },
    {
      "cell_type": "code",
      "execution_count": 251,
      "metadata": {
        "collapsed": true,
        "pycharm": {}
      },
      "outputs": [],
      "source": [
        "x \u003d 5"
      ]
    },
    {
      "cell_type": "markdown",
      "metadata": {
        "pycharm": {}
      },
      "source": [
        "**Comparisons:**"
      ]
    },
    {
      "cell_type": "code",
      "execution_count": 252,
      "metadata": {
        "collapsed": false,
        "pycharm": {}
      },
      "outputs": [
        {
          "data": {
            "text/plain": [
              "True"
            ]
          },
          "execution_count": 252,
          "metadata": {},
          "output_type": "execute_result"
        }
      ],
      "source": [
        "x \u003e 3"
      ]
    },
    {
      "cell_type": "code",
      "execution_count": 253,
      "metadata": {
        "collapsed": false,
        "pycharm": {}
      },
      "outputs": [
        {
          "data": {
            "text/plain": [
              "True"
            ]
          },
          "execution_count": 253,
          "metadata": {},
          "output_type": "execute_result"
        }
      ],
      "source": [
        "x \u003e\u003d 3"
      ]
    },
    {
      "cell_type": "code",
      "execution_count": 254,
      "metadata": {
        "collapsed": false,
        "pycharm": {}
      },
      "outputs": [
        {
          "data": {
            "text/plain": [
              "True"
            ]
          },
          "execution_count": 254,
          "metadata": {},
          "output_type": "execute_result"
        }
      ],
      "source": [
        "x !\u003d 3"
      ]
    },
    {
      "cell_type": "code",
      "execution_count": 255,
      "metadata": {
        "collapsed": false,
        "pycharm": {}
      },
      "outputs": [
        {
          "data": {
            "text/plain": [
              "True"
            ]
          },
          "execution_count": 255,
          "metadata": {},
          "output_type": "execute_result"
        }
      ],
      "source": [
        "x \u003d\u003d 5"
      ]
    },
    {
      "cell_type": "markdown",
      "metadata": {
        "pycharm": {}
      },
      "source": [
        "**Boolean operations:**"
      ]
    },
    {
      "cell_type": "code",
      "execution_count": 256,
      "metadata": {
        "collapsed": false,
        "pycharm": {}
      },
      "outputs": [
        {
          "data": {
            "text/plain": [
              "True"
            ]
          },
          "execution_count": 256,
          "metadata": {},
          "output_type": "execute_result"
        }
      ],
      "source": [
        "5 \u003e 3 and 6 \u003e 3"
      ]
    },
    {
      "cell_type": "code",
      "execution_count": 257,
      "metadata": {
        "collapsed": false,
        "pycharm": {}
      },
      "outputs": [
        {
          "data": {
            "text/plain": [
              "True"
            ]
          },
          "execution_count": 257,
          "metadata": {},
          "output_type": "execute_result"
        }
      ],
      "source": [
        "5 \u003e 3 or 5 \u003c 3"
      ]
    },
    {
      "cell_type": "code",
      "execution_count": 258,
      "metadata": {
        "collapsed": false,
        "pycharm": {}
      },
      "outputs": [
        {
          "data": {
            "text/plain": [
              "True"
            ]
          },
          "execution_count": 258,
          "metadata": {},
          "output_type": "execute_result"
        }
      ],
      "source": [
        "not False"
      ]
    },
    {
      "cell_type": "code",
      "execution_count": 259,
      "metadata": {
        "collapsed": false,
        "pycharm": {}
      },
      "outputs": [
        {
          "data": {
            "text/plain": [
              "True"
            ]
          },
          "execution_count": 259,
          "metadata": {},
          "output_type": "execute_result"
        }
      ],
      "source": [
        "False or not False and True     # evaluation order: not, and, or"
      ]
    },
    {
      "cell_type": "markdown",
      "metadata": {
        "pycharm": {}
      },
      "source": [
        "[\u003ca href\u003d\"#Python-Quick-Reference-by-Data-School\"\u003eBack to top\u003c/a\u003e]"
      ]
    },
    {
      "cell_type": "markdown",
      "metadata": {
        "pycharm": {}
      },
      "source": [
        "## 5. Conditional Statements"
      ]
    },
    {
      "cell_type": "code",
      "execution_count": 260,
      "metadata": {
        "collapsed": false,
        "pycharm": {}
      },
      "outputs": [
        {
          "name": "stdout",
          "output_type": "stream",
          "text": [
            "positive\n"
          ]
        }
      ],
      "source": [
        "# if statement\n",
        "if x \u003e 0:\n",
        "    print(\u0027positive\u0027)"
      ]
    },
    {
      "cell_type": "code",
      "execution_count": 261,
      "metadata": {
        "collapsed": false,
        "pycharm": {}
      },
      "outputs": [
        {
          "name": "stdout",
          "output_type": "stream",
          "text": [
            "positive\n"
          ]
        }
      ],
      "source": [
        "# if/else statement\n",
        "if x \u003e 0:\n",
        "    print(\u0027positive\u0027)\n",
        "else:\n",
        "    print(\u0027zero or negative\u0027)"
      ]
    },
    {
      "cell_type": "code",
      "execution_count": 262,
      "metadata": {
        "collapsed": false,
        "pycharm": {}
      },
      "outputs": [
        {
          "name": "stdout",
          "output_type": "stream",
          "text": [
            "positive\n"
          ]
        }
      ],
      "source": [
        "# if/elif/else statement\n",
        "if x \u003e 0:\n",
        "    print(\u0027positive\u0027)\n",
        "elif x \u003d\u003d 0:\n",
        "    print(\u0027zero\u0027)\n",
        "else:\n",
        "    print(\u0027negative\u0027)"
      ]
    },
    {
      "cell_type": "code",
      "execution_count": 263,
      "metadata": {
        "collapsed": false,
        "pycharm": {}
      },
      "outputs": [
        {
          "name": "stdout",
          "output_type": "stream",
          "text": [
            "positive\n"
          ]
        }
      ],
      "source": [
        "# single-line if statement (sometimes discouraged)\n",
        "if x \u003e 0: print(\u0027positive\u0027)"
      ]
    },
    {
      "cell_type": "code",
      "execution_count": 264,
      "metadata": {
        "collapsed": false,
        "pycharm": {}
      },
      "outputs": [
        {
          "data": {
            "text/plain": [
              "\u0027positive\u0027"
            ]
          },
          "execution_count": 264,
          "metadata": {},
          "output_type": "execute_result"
        }
      ],
      "source": [
        "# single-line if/else statement (sometimes discouraged), known as a \u0027ternary operator\u0027\n",
        "\u0027positive\u0027 if x \u003e 0 else \u0027zero or negative\u0027"
      ]
    },
    {
      "cell_type": "markdown",
      "metadata": {
        "pycharm": {}
      },
      "source": [
        "[\u003ca href\u003d\"#Python-Quick-Reference-by-Data-School\"\u003eBack to top\u003c/a\u003e]"
      ]
    },
    {
      "cell_type": "markdown",
      "metadata": {
        "pycharm": {}
      },
      "source": [
        "## 6. Lists\n",
        "\n",
        "- **List properties:** ordered, iterable, mutable, can contain multiple data types"
      ]
    },
    {
      "cell_type": "code",
      "execution_count": 265,
      "metadata": {
        "collapsed": true,
        "pycharm": {}
      },
      "outputs": [],
      "source": [
        "# create an empty list (two ways)\n",
        "empty_list \u003d []\n",
        "empty_list \u003d list()"
      ]
    },
    {
      "cell_type": "code",
      "execution_count": 266,
      "metadata": {
        "collapsed": true,
        "pycharm": {}
      },
      "outputs": [],
      "source": [
        "# create a list\n",
        "simpsons \u003d [\u0027homer\u0027, \u0027marge\u0027, \u0027bart\u0027]"
      ]
    },
    {
      "cell_type": "markdown",
      "metadata": {
        "pycharm": {}
      },
      "source": [
        "**Examine a list:**"
      ]
    },
    {
      "cell_type": "code",
      "execution_count": 267,
      "metadata": {
        "collapsed": false,
        "pycharm": {}
      },
      "outputs": [
        {
          "data": {
            "text/plain": [
              "\u0027homer\u0027"
            ]
          },
          "execution_count": 267,
          "metadata": {},
          "output_type": "execute_result"
        }
      ],
      "source": [
        "# print element 0\n",
        "simpsons[0]"
      ]
    },
    {
      "cell_type": "code",
      "execution_count": 268,
      "metadata": {
        "collapsed": false,
        "pycharm": {}
      },
      "outputs": [
        {
          "data": {
            "text/plain": [
              "3"
            ]
          },
          "execution_count": 268,
          "metadata": {},
          "output_type": "execute_result"
        }
      ],
      "source": [
        "len(simpsons)"
      ]
    },
    {
      "cell_type": "markdown",
      "metadata": {
        "pycharm": {}
      },
      "source": [
        "**Modify a list (does not return the list):**"
      ]
    },
    {
      "cell_type": "code",
      "execution_count": 269,
      "metadata": {
        "collapsed": false,
        "pycharm": {}
      },
      "outputs": [
        {
          "data": {
            "text/plain": [
              "[\u0027homer\u0027, \u0027marge\u0027, \u0027bart\u0027, \u0027lisa\u0027]"
            ]
          },
          "execution_count": 269,
          "metadata": {},
          "output_type": "execute_result"
        }
      ],
      "source": [
        "# append element to end\n",
        "simpsons.append(\u0027lisa\u0027)\n",
        "simpsons"
      ]
    },
    {
      "cell_type": "code",
      "execution_count": 270,
      "metadata": {
        "collapsed": false,
        "pycharm": {}
      },
      "outputs": [
        {
          "data": {
            "text/plain": [
              "[\u0027homer\u0027, \u0027marge\u0027, \u0027bart\u0027, \u0027lisa\u0027, \u0027itchy\u0027, \u0027scratchy\u0027]"
            ]
          },
          "execution_count": 270,
          "metadata": {},
          "output_type": "execute_result"
        }
      ],
      "source": [
        "# append multiple elements to end\n",
        "simpsons.extend([\u0027itchy\u0027, \u0027scratchy\u0027])\n",
        "simpsons"
      ]
    },
    {
      "cell_type": "code",
      "execution_count": 271,
      "metadata": {
        "collapsed": false,
        "pycharm": {}
      },
      "outputs": [
        {
          "data": {
            "text/plain": [
              "[\u0027maggie\u0027, \u0027homer\u0027, \u0027marge\u0027, \u0027bart\u0027, \u0027lisa\u0027, \u0027itchy\u0027, \u0027scratchy\u0027]"
            ]
          },
          "execution_count": 271,
          "metadata": {},
          "output_type": "execute_result"
        }
      ],
      "source": [
        "# insert element at index 0 (shifts everything right)\n",
        "simpsons.insert(0, \u0027maggie\u0027)\n",
        "simpsons"
      ]
    },
    {
      "cell_type": "code",
      "execution_count": 272,
      "metadata": {
        "collapsed": false,
        "pycharm": {}
      },
      "outputs": [
        {
          "data": {
            "text/plain": [
              "[\u0027maggie\u0027, \u0027homer\u0027, \u0027marge\u0027, \u0027lisa\u0027, \u0027itchy\u0027, \u0027scratchy\u0027]"
            ]
          },
          "execution_count": 272,
          "metadata": {},
          "output_type": "execute_result"
        }
      ],
      "source": [
        "# search for first instance and remove it\n",
        "simpsons.remove(\u0027bart\u0027)\n",
        "simpsons"
      ]
    },
    {
      "cell_type": "code",
      "execution_count": 273,
      "metadata": {
        "collapsed": false,
        "pycharm": {}
      },
      "outputs": [
        {
          "data": {
            "text/plain": [
              "\u0027maggie\u0027"
            ]
          },
          "execution_count": 273,
          "metadata": {},
          "output_type": "execute_result"
        }
      ],
      "source": [
        "# remove element 0 and return it\n",
        "simpsons.pop(0)"
      ]
    },
    {
      "cell_type": "code",
      "execution_count": 274,
      "metadata": {
        "collapsed": false,
        "pycharm": {}
      },
      "outputs": [
        {
          "data": {
            "text/plain": [
              "[\u0027marge\u0027, \u0027lisa\u0027, \u0027itchy\u0027, \u0027scratchy\u0027]"
            ]
          },
          "execution_count": 274,
          "metadata": {},
          "output_type": "execute_result"
        }
      ],
      "source": [
        "# remove element 0 (does not return it)\n",
        "del simpsons[0]\n",
        "simpsons"
      ]
    },
    {
      "cell_type": "code",
      "execution_count": 275,
      "metadata": {
        "collapsed": false,
        "pycharm": {}
      },
      "outputs": [
        {
          "data": {
            "text/plain": [
              "[\u0027krusty\u0027, \u0027lisa\u0027, \u0027itchy\u0027, \u0027scratchy\u0027]"
            ]
          },
          "execution_count": 275,
          "metadata": {},
          "output_type": "execute_result"
        }
      ],
      "source": [
        "# replace element 0\n",
        "simpsons[0] \u003d \u0027krusty\u0027\n",
        "simpsons"
      ]
    },
    {
      "cell_type": "code",
      "execution_count": 276,
      "metadata": {
        "collapsed": false,
        "pycharm": {}
      },
      "outputs": [
        {
          "data": {
            "text/plain": [
              "[\u0027krusty\u0027, \u0027lisa\u0027, \u0027itchy\u0027, \u0027scratchy\u0027, \u0027ned\u0027, \u0027rod\u0027, \u0027todd\u0027]"
            ]
          },
          "execution_count": 276,
          "metadata": {},
          "output_type": "execute_result"
        }
      ],
      "source": [
        "# concatenate lists (slower than \u0027extend\u0027 method)\n",
        "neighbors \u003d simpsons + [\u0027ned\u0027, \u0027rod\u0027, \u0027todd\u0027]\n",
        "neighbors"
      ]
    },
    {
      "cell_type": "markdown",
      "metadata": {
        "pycharm": {}
      },
      "source": [
        "**Find elements in a list:**"
      ]
    },
    {
      "cell_type": "code",
      "execution_count": 277,
      "metadata": {
        "collapsed": false,
        "pycharm": {}
      },
      "outputs": [
        {
          "data": {
            "text/plain": [
              "1"
            ]
          },
          "execution_count": 277,
          "metadata": {},
          "output_type": "execute_result"
        }
      ],
      "source": [
        "# counts the number of instances\n",
        "simpsons.count(\u0027lisa\u0027)"
      ]
    },
    {
      "cell_type": "code",
      "execution_count": 278,
      "metadata": {
        "collapsed": false,
        "pycharm": {}
      },
      "outputs": [
        {
          "data": {
            "text/plain": [
              "2"
            ]
          },
          "execution_count": 278,
          "metadata": {},
          "output_type": "execute_result"
        }
      ],
      "source": [
        "# returns index of first instance\n",
        "simpsons.index(\u0027itchy\u0027)"
      ]
    },
    {
      "cell_type": "markdown",
      "metadata": {
        "pycharm": {}
      },
      "source": [
        "**List slicing:**"
      ]
    },
    {
      "cell_type": "code",
      "execution_count": 279,
      "metadata": {
        "collapsed": true,
        "pycharm": {}
      },
      "outputs": [],
      "source": [
        "weekdays \u003d [\u0027mon\u0027, \u0027tues\u0027, \u0027wed\u0027, \u0027thurs\u0027, \u0027fri\u0027]"
      ]
    },
    {
      "cell_type": "code",
      "execution_count": 280,
      "metadata": {
        "collapsed": false,
        "pycharm": {}
      },
      "outputs": [
        {
          "data": {
            "text/plain": [
              "\u0027mon\u0027"
            ]
          },
          "execution_count": 280,
          "metadata": {},
          "output_type": "execute_result"
        }
      ],
      "source": [
        "# element 0\n",
        "weekdays[0]"
      ]
    },
    {
      "cell_type": "code",
      "execution_count": 281,
      "metadata": {
        "collapsed": false,
        "pycharm": {}
      },
      "outputs": [
        {
          "data": {
            "text/plain": [
              "[\u0027mon\u0027, \u0027tues\u0027, \u0027wed\u0027]"
            ]
          },
          "execution_count": 281,
          "metadata": {},
          "output_type": "execute_result"
        }
      ],
      "source": [
        "# elements 0 (inclusive) to 3 (exclusive)\n",
        "weekdays[0:3]"
      ]
    },
    {
      "cell_type": "code",
      "execution_count": 282,
      "metadata": {
        "collapsed": false,
        "pycharm": {}
      },
      "outputs": [
        {
          "data": {
            "text/plain": [
              "[\u0027mon\u0027, \u0027tues\u0027, \u0027wed\u0027]"
            ]
          },
          "execution_count": 282,
          "metadata": {},
          "output_type": "execute_result"
        }
      ],
      "source": [
        "# starting point is implied to be 0\n",
        "weekdays[:3]"
      ]
    },
    {
      "cell_type": "code",
      "execution_count": 283,
      "metadata": {
        "collapsed": false,
        "pycharm": {}
      },
      "outputs": [
        {
          "data": {
            "text/plain": [
              "[\u0027thurs\u0027, \u0027fri\u0027]"
            ]
          },
          "execution_count": 283,
          "metadata": {},
          "output_type": "execute_result"
        }
      ],
      "source": [
        "# elements 3 (inclusive) through the end\n",
        "weekdays[3:]"
      ]
    },
    {
      "cell_type": "code",
      "execution_count": 284,
      "metadata": {
        "collapsed": false,
        "pycharm": {}
      },
      "outputs": [
        {
          "data": {
            "text/plain": [
              "\u0027fri\u0027"
            ]
          },
          "execution_count": 284,
          "metadata": {},
          "output_type": "execute_result"
        }
      ],
      "source": [
        "# last element\n",
        "weekdays[-1]"
      ]
    },
    {
      "cell_type": "code",
      "execution_count": 285,
      "metadata": {
        "collapsed": false,
        "pycharm": {}
      },
      "outputs": [
        {
          "data": {
            "text/plain": [
              "[\u0027mon\u0027, \u0027wed\u0027, \u0027fri\u0027]"
            ]
          },
          "execution_count": 285,
          "metadata": {},
          "output_type": "execute_result"
        }
      ],
      "source": [
        "# every 2nd element (step by 2)\n",
        "weekdays[::2]"
      ]
    },
    {
      "cell_type": "code",
      "execution_count": 286,
      "metadata": {
        "collapsed": false,
        "pycharm": {}
      },
      "outputs": [
        {
          "data": {
            "text/plain": [
              "[\u0027fri\u0027, \u0027thurs\u0027, \u0027wed\u0027, \u0027tues\u0027, \u0027mon\u0027]"
            ]
          },
          "execution_count": 286,
          "metadata": {},
          "output_type": "execute_result"
        }
      ],
      "source": [
        "# backwards (step by -1)\n",
        "weekdays[::-1]"
      ]
    },
    {
      "cell_type": "code",
      "execution_count": 287,
      "metadata": {
        "collapsed": false,
        "pycharm": {}
      },
      "outputs": [
        {
          "data": {
            "text/plain": [
              "[\u0027fri\u0027, \u0027thurs\u0027, \u0027wed\u0027, \u0027tues\u0027, \u0027mon\u0027]"
            ]
          },
          "execution_count": 287,
          "metadata": {},
          "output_type": "execute_result"
        }
      ],
      "source": [
        "# alternative method for returning the list backwards\n",
        "list(reversed(weekdays))"
      ]
    },
    {
      "cell_type": "markdown",
      "metadata": {
        "pycharm": {}
      },
      "source": [
        "**Sort a list in place (modifies but does not return the list):**"
      ]
    },
    {
      "cell_type": "code",
      "execution_count": 288,
      "metadata": {
        "collapsed": false,
        "pycharm": {}
      },
      "outputs": [
        {
          "data": {
            "text/plain": [
              "[\u0027itchy\u0027, \u0027krusty\u0027, \u0027lisa\u0027, \u0027scratchy\u0027]"
            ]
          },
          "execution_count": 288,
          "metadata": {},
          "output_type": "execute_result"
        }
      ],
      "source": [
        "simpsons.sort()\n",
        "simpsons"
      ]
    },
    {
      "cell_type": "code",
      "execution_count": 289,
      "metadata": {
        "collapsed": false,
        "pycharm": {}
      },
      "outputs": [
        {
          "data": {
            "text/plain": [
              "[\u0027scratchy\u0027, \u0027lisa\u0027, \u0027krusty\u0027, \u0027itchy\u0027]"
            ]
          },
          "execution_count": 289,
          "metadata": {},
          "output_type": "execute_result"
        }
      ],
      "source": [
        "# sort in reverse\n",
        "simpsons.sort(reverse\u003dTrue)\n",
        "simpsons"
      ]
    },
    {
      "cell_type": "code",
      "execution_count": 290,
      "metadata": {
        "collapsed": false,
        "pycharm": {}
      },
      "outputs": [
        {
          "data": {
            "text/plain": [
              "[\u0027lisa\u0027, \u0027itchy\u0027, \u0027krusty\u0027, \u0027scratchy\u0027]"
            ]
          },
          "execution_count": 290,
          "metadata": {},
          "output_type": "execute_result"
        }
      ],
      "source": [
        "# sort by a key\n",
        "simpsons.sort(key\u003dlen)\n",
        "simpsons"
      ]
    },
    {
      "cell_type": "markdown",
      "metadata": {
        "pycharm": {}
      },
      "source": [
        "**Return a sorted list (does not modify the original list):**"
      ]
    },
    {
      "cell_type": "code",
      "execution_count": 291,
      "metadata": {
        "collapsed": false,
        "pycharm": {}
      },
      "outputs": [
        {
          "data": {
            "text/plain": [
              "[\u0027itchy\u0027, \u0027krusty\u0027, \u0027lisa\u0027, \u0027scratchy\u0027]"
            ]
          },
          "execution_count": 291,
          "metadata": {},
          "output_type": "execute_result"
        }
      ],
      "source": [
        "sorted(simpsons)"
      ]
    },
    {
      "cell_type": "code",
      "execution_count": 292,
      "metadata": {
        "collapsed": false,
        "pycharm": {}
      },
      "outputs": [
        {
          "data": {
            "text/plain": [
              "[\u0027scratchy\u0027, \u0027lisa\u0027, \u0027krusty\u0027, \u0027itchy\u0027]"
            ]
          },
          "execution_count": 292,
          "metadata": {},
          "output_type": "execute_result"
        }
      ],
      "source": [
        "sorted(simpsons, reverse\u003dTrue)"
      ]
    },
    {
      "cell_type": "code",
      "execution_count": 293,
      "metadata": {
        "collapsed": false,
        "pycharm": {}
      },
      "outputs": [
        {
          "data": {
            "text/plain": [
              "[\u0027lisa\u0027, \u0027itchy\u0027, \u0027krusty\u0027, \u0027scratchy\u0027]"
            ]
          },
          "execution_count": 293,
          "metadata": {},
          "output_type": "execute_result"
        }
      ],
      "source": [
        "sorted(simpsons, key\u003dlen)"
      ]
    },
    {
      "cell_type": "markdown",
      "metadata": {
        "pycharm": {}
      },
      "source": [
        "**Insert into an already sorted list, and keep it sorted:**"
      ]
    },
    {
      "cell_type": "code",
      "execution_count": 294,
      "metadata": {
        "collapsed": false,
        "pycharm": {}
      },
      "outputs": [
        {
          "data": {
            "text/plain": [
              "[10, 20, 30, 40, 50]"
            ]
          },
          "execution_count": 294,
          "metadata": {},
          "output_type": "execute_result"
        }
      ],
      "source": [
        "num \u003d [10, 20, 40, 50]\n",
        "from bisect import insort\n",
        "insort(num, 30)\n",
        "num"
      ]
    },
    {
      "cell_type": "markdown",
      "metadata": {
        "pycharm": {}
      },
      "source": [
        "**Object references and copies:**"
      ]
    },
    {
      "cell_type": "code",
      "execution_count": 295,
      "metadata": {
        "collapsed": true,
        "pycharm": {}
      },
      "outputs": [],
      "source": [
        "# create a second reference to the same list\n",
        "same_num \u003d num"
      ]
    },
    {
      "cell_type": "code",
      "execution_count": 296,
      "metadata": {
        "collapsed": false,
        "pycharm": {}
      },
      "outputs": [
        {
          "name": "stdout",
          "output_type": "stream",
          "text": [
            "[0, 20, 30, 40, 50]\n[0, 20, 30, 40, 50]\n"
          ]
        }
      ],
      "source": [
        "# modifies both \u0027num\u0027 and \u0027same_num\u0027\n",
        "same_num[0] \u003d 0\n",
        "print(num)\n",
        "print(same_num)"
      ]
    },
    {
      "cell_type": "code",
      "execution_count": 297,
      "metadata": {
        "collapsed": true,
        "pycharm": {}
      },
      "outputs": [],
      "source": [
        "# copy a list (two ways)\n",
        "new_num \u003d num[:]\n",
        "new_num \u003d list(num)"
      ]
    },
    {
      "cell_type": "markdown",
      "metadata": {
        "pycharm": {}
      },
      "source": [
        "**Examine objects:**"
      ]
    },
    {
      "cell_type": "code",
      "execution_count": 298,
      "metadata": {
        "collapsed": false,
        "pycharm": {}
      },
      "outputs": [
        {
          "data": {
            "text/plain": [
              "True"
            ]
          },
          "execution_count": 298,
          "metadata": {},
          "output_type": "execute_result"
        }
      ],
      "source": [
        "num is same_num    # checks whether they are the same object"
      ]
    },
    {
      "cell_type": "code",
      "execution_count": 299,
      "metadata": {
        "collapsed": false,
        "pycharm": {}
      },
      "outputs": [
        {
          "data": {
            "text/plain": [
              "False"
            ]
          },
          "execution_count": 299,
          "metadata": {},
          "output_type": "execute_result"
        }
      ],
      "source": [
        "num is new_num"
      ]
    },
    {
      "cell_type": "code",
      "execution_count": 300,
      "metadata": {
        "collapsed": false,
        "pycharm": {}
      },
      "outputs": [
        {
          "data": {
            "text/plain": [
              "True"
            ]
          },
          "execution_count": 300,
          "metadata": {},
          "output_type": "execute_result"
        }
      ],
      "source": [
        "num \u003d\u003d same_num    # checks whether they have the same contents"
      ]
    },
    {
      "cell_type": "code",
      "execution_count": 301,
      "metadata": {
        "collapsed": false,
        "pycharm": {}
      },
      "outputs": [
        {
          "data": {
            "text/plain": [
              "True"
            ]
          },
          "execution_count": 301,
          "metadata": {},
          "output_type": "execute_result"
        }
      ],
      "source": [
        "num \u003d\u003d new_num"
      ]
    },
    {
      "cell_type": "markdown",
      "metadata": {
        "pycharm": {}
      },
      "source": [
        "[\u003ca href\u003d\"#Python-Quick-Reference-by-Data-School\"\u003eBack to top\u003c/a\u003e]"
      ]
    },
    {
      "cell_type": "markdown",
      "metadata": {
        "pycharm": {}
      },
      "source": [
        "## 7. Tuples\n",
        "\n",
        "- **Tuple properties:** ordered, iterable, immutable, can contain multiple data types\n",
        "- Like lists, but they don\u0027t change size"
      ]
    },
    {
      "cell_type": "code",
      "execution_count": 302,
      "metadata": {
        "collapsed": true,
        "pycharm": {}
      },
      "outputs": [],
      "source": [
        "# create a tuple directly\n",
        "digits \u003d (0, 1, \u0027two\u0027)"
      ]
    },
    {
      "cell_type": "code",
      "execution_count": 303,
      "metadata": {
        "collapsed": true,
        "pycharm": {}
      },
      "outputs": [],
      "source": [
        "# create a tuple from a list\n",
        "digits \u003d tuple([0, 1, \u0027two\u0027])"
      ]
    },
    {
      "cell_type": "code",
      "execution_count": 304,
      "metadata": {
        "collapsed": true,
        "pycharm": {}
      },
      "outputs": [],
      "source": [
        "# trailing comma is required to indicate it\u0027s a tuple\n",
        "zero \u003d (0,)"
      ]
    },
    {
      "cell_type": "markdown",
      "metadata": {
        "pycharm": {}
      },
      "source": [
        "**Examine a tuple:**"
      ]
    },
    {
      "cell_type": "code",
      "execution_count": 305,
      "metadata": {
        "collapsed": false,
        "pycharm": {}
      },
      "outputs": [
        {
          "data": {
            "text/plain": [
              "\u0027two\u0027"
            ]
          },
          "execution_count": 305,
          "metadata": {},
          "output_type": "execute_result"
        }
      ],
      "source": [
        "digits[2]"
      ]
    },
    {
      "cell_type": "code",
      "execution_count": 306,
      "metadata": {
        "collapsed": false,
        "pycharm": {}
      },
      "outputs": [
        {
          "data": {
            "text/plain": [
              "3"
            ]
          },
          "execution_count": 306,
          "metadata": {},
          "output_type": "execute_result"
        }
      ],
      "source": [
        "len(digits)"
      ]
    },
    {
      "cell_type": "code",
      "execution_count": 307,
      "metadata": {
        "collapsed": false,
        "pycharm": {}
      },
      "outputs": [
        {
          "data": {
            "text/plain": [
              "1"
            ]
          },
          "execution_count": 307,
          "metadata": {},
          "output_type": "execute_result"
        }
      ],
      "source": [
        "# counts the number of instances of that value\n",
        "digits.count(0)"
      ]
    },
    {
      "cell_type": "code",
      "execution_count": 308,
      "metadata": {
        "collapsed": false,
        "pycharm": {}
      },
      "outputs": [
        {
          "data": {
            "text/plain": [
              "1"
            ]
          },
          "execution_count": 308,
          "metadata": {},
          "output_type": "execute_result"
        }
      ],
      "source": [
        "# returns the index of the first instance of that value\n",
        "digits.index(1)"
      ]
    },
    {
      "cell_type": "markdown",
      "metadata": {
        "pycharm": {}
      },
      "source": [
        "**Modify a tuple:**"
      ]
    },
    {
      "cell_type": "code",
      "execution_count": 309,
      "metadata": {
        "collapsed": true,
        "pycharm": {}
      },
      "outputs": [],
      "source": [
        "# elements of a tuple cannot be modified (this would throw an error)\n",
        "# digits[2] \u003d 2"
      ]
    },
    {
      "cell_type": "code",
      "execution_count": 310,
      "metadata": {
        "collapsed": false,
        "pycharm": {}
      },
      "outputs": [
        {
          "data": {
            "text/plain": [
              "(0, 1, \u0027two\u0027, 3, 4)"
            ]
          },
          "execution_count": 310,
          "metadata": {},
          "output_type": "execute_result"
        }
      ],
      "source": [
        "# concatenate tuples\n",
        "digits \u003d digits + (3, 4)\n",
        "digits"
      ]
    },
    {
      "cell_type": "markdown",
      "metadata": {
        "pycharm": {}
      },
      "source": [
        "**Other tuple operations:**"
      ]
    },
    {
      "cell_type": "code",
      "execution_count": 311,
      "metadata": {
        "collapsed": false,
        "pycharm": {}
      },
      "outputs": [
        {
          "data": {
            "text/plain": [
              "(3, 4, 3, 4)"
            ]
          },
          "execution_count": 311,
          "metadata": {},
          "output_type": "execute_result"
        }
      ],
      "source": [
        "# create a single tuple with elements repeated (also works with lists)\n",
        "(3, 4) * 2"
      ]
    },
    {
      "cell_type": "code",
      "execution_count": 312,
      "metadata": {
        "collapsed": false,
        "pycharm": {}
      },
      "outputs": [
        {
          "data": {
            "text/plain": [
              "[(10, 40), (20, 30), (20, 60)]"
            ]
          },
          "execution_count": 312,
          "metadata": {},
          "output_type": "execute_result"
        }
      ],
      "source": [
        "# sort a list of tuples\n",
        "tens \u003d [(20, 60), (10, 40), (20, 30)]\n",
        "sorted(tens)    # sorts by first element in tuple, then second element"
      ]
    },
    {
      "cell_type": "code",
      "execution_count": 313,
      "metadata": {
        "collapsed": false,
        "pycharm": {}
      },
      "outputs": [
        {
          "name": "stdout",
          "output_type": "stream",
          "text": [
            "male\n10\nsimpson\n"
          ]
        }
      ],
      "source": [
        "# tuple unpacking\n",
        "bart \u003d (\u0027male\u0027, 10, \u0027simpson\u0027)    # create a tuple\n",
        "(sex, age, surname) \u003d bart        # assign three values at once\n",
        "print(sex)\n",
        "print(age)\n",
        "print(surname)"
      ]
    },
    {
      "cell_type": "markdown",
      "metadata": {
        "pycharm": {}
      },
      "source": [
        "[\u003ca href\u003d\"#Python-Quick-Reference-by-Data-School\"\u003eBack to top\u003c/a\u003e]"
      ]
    },
    {
      "cell_type": "markdown",
      "metadata": {
        "pycharm": {}
      },
      "source": [
        "## 8. Strings\n",
        "\n",
        "- **String properties:** iterable, immutable"
      ]
    },
    {
      "cell_type": "code",
      "execution_count": 314,
      "metadata": {
        "collapsed": false,
        "pycharm": {}
      },
      "outputs": [
        {
          "data": {
            "text/plain": [
              "\u002742\u0027"
            ]
          },
          "execution_count": 314,
          "metadata": {},
          "output_type": "execute_result"
        }
      ],
      "source": [
        "# convert another data type into a string\n",
        "s \u003d str(42)\n",
        "s"
      ]
    },
    {
      "cell_type": "code",
      "execution_count": 315,
      "metadata": {
        "collapsed": false,
        "pycharm": {}
      },
      "outputs": [],
      "source": [
        "# create a string directly\n",
        "s \u003d \u0027I like you\u0027"
      ]
    },
    {
      "cell_type": "markdown",
      "metadata": {
        "pycharm": {}
      },
      "source": [
        "**Examine a string:**"
      ]
    },
    {
      "cell_type": "code",
      "execution_count": 316,
      "metadata": {
        "collapsed": false,
        "pycharm": {}
      },
      "outputs": [
        {
          "data": {
            "text/plain": [
              "\u0027I\u0027"
            ]
          },
          "execution_count": 316,
          "metadata": {},
          "output_type": "execute_result"
        }
      ],
      "source": [
        "s[0]"
      ]
    },
    {
      "cell_type": "code",
      "execution_count": 317,
      "metadata": {
        "collapsed": false,
        "pycharm": {}
      },
      "outputs": [
        {
          "data": {
            "text/plain": [
              "10"
            ]
          },
          "execution_count": 317,
          "metadata": {},
          "output_type": "execute_result"
        }
      ],
      "source": [
        "len(s)"
      ]
    },
    {
      "cell_type": "markdown",
      "metadata": {
        "pycharm": {}
      },
      "source": [
        "**String slicing is like list slicing:**"
      ]
    },
    {
      "cell_type": "code",
      "execution_count": 318,
      "metadata": {
        "collapsed": false,
        "pycharm": {}
      },
      "outputs": [
        {
          "data": {
            "text/plain": [
              "\u0027I like\u0027"
            ]
          },
          "execution_count": 318,
          "metadata": {},
          "output_type": "execute_result"
        }
      ],
      "source": [
        "s[:6]"
      ]
    },
    {
      "cell_type": "code",
      "execution_count": 319,
      "metadata": {
        "collapsed": false,
        "pycharm": {}
      },
      "outputs": [
        {
          "data": {
            "text/plain": [
              "\u0027you\u0027"
            ]
          },
          "execution_count": 319,
          "metadata": {},
          "output_type": "execute_result"
        }
      ],
      "source": [
        "s[7:]"
      ]
    },
    {
      "cell_type": "code",
      "execution_count": 320,
      "metadata": {
        "collapsed": false,
        "pycharm": {}
      },
      "outputs": [
        {
          "data": {
            "text/plain": [
              "\u0027u\u0027"
            ]
          },
          "execution_count": 320,
          "metadata": {},
          "output_type": "execute_result"
        }
      ],
      "source": [
        "s[-1]"
      ]
    },
    {
      "cell_type": "markdown",
      "metadata": {
        "pycharm": {}
      },
      "source": [
        "**Basic string methods (does not modify the original string):**"
      ]
    },
    {
      "cell_type": "code",
      "execution_count": 321,
      "metadata": {
        "collapsed": false,
        "pycharm": {}
      },
      "outputs": [
        {
          "data": {
            "text/plain": [
              "\u0027i like you\u0027"
            ]
          },
          "execution_count": 321,
          "metadata": {},
          "output_type": "execute_result"
        }
      ],
      "source": [
        "s.lower()"
      ]
    },
    {
      "cell_type": "code",
      "execution_count": 322,
      "metadata": {
        "collapsed": false,
        "pycharm": {}
      },
      "outputs": [
        {
          "data": {
            "text/plain": [
              "\u0027I LIKE YOU\u0027"
            ]
          },
          "execution_count": 322,
          "metadata": {},
          "output_type": "execute_result"
        }
      ],
      "source": [
        "s.upper()"
      ]
    },
    {
      "cell_type": "code",
      "execution_count": 323,
      "metadata": {
        "collapsed": false,
        "pycharm": {}
      },
      "outputs": [
        {
          "data": {
            "text/plain": [
              "True"
            ]
          },
          "execution_count": 323,
          "metadata": {},
          "output_type": "execute_result"
        }
      ],
      "source": [
        "s.startswith(\u0027I\u0027)"
      ]
    },
    {
      "cell_type": "code",
      "execution_count": 324,
      "metadata": {
        "collapsed": false,
        "pycharm": {}
      },
      "outputs": [
        {
          "data": {
            "text/plain": [
              "True"
            ]
          },
          "execution_count": 324,
          "metadata": {},
          "output_type": "execute_result"
        }
      ],
      "source": [
        "s.endswith(\u0027you\u0027)"
      ]
    },
    {
      "cell_type": "code",
      "execution_count": 325,
      "metadata": {
        "collapsed": false,
        "pycharm": {}
      },
      "outputs": [
        {
          "data": {
            "text/plain": [
              "False"
            ]
          },
          "execution_count": 325,
          "metadata": {},
          "output_type": "execute_result"
        }
      ],
      "source": [
        "# checks whether every character in the string is a digit\n",
        "s.isdigit()"
      ]
    },
    {
      "cell_type": "code",
      "execution_count": 326,
      "metadata": {
        "collapsed": false,
        "pycharm": {}
      },
      "outputs": [
        {
          "data": {
            "text/plain": [
              "2"
            ]
          },
          "execution_count": 326,
          "metadata": {},
          "output_type": "execute_result"
        }
      ],
      "source": [
        "# returns index of first occurrence, but doesn\u0027t support regex\n",
        "s.find(\u0027like\u0027)"
      ]
    },
    {
      "cell_type": "code",
      "execution_count": 327,
      "metadata": {
        "collapsed": false,
        "pycharm": {}
      },
      "outputs": [
        {
          "data": {
            "text/plain": [
              "-1"
            ]
          },
          "execution_count": 327,
          "metadata": {},
          "output_type": "execute_result"
        }
      ],
      "source": [
        "# returns -1 since not found\n",
        "s.find(\u0027hate\u0027)"
      ]
    },
    {
      "cell_type": "code",
      "execution_count": 328,
      "metadata": {
        "collapsed": false,
        "pycharm": {}
      },
      "outputs": [
        {
          "data": {
            "text/plain": [
              "\u0027I love you\u0027"
            ]
          },
          "execution_count": 328,
          "metadata": {},
          "output_type": "execute_result"
        }
      ],
      "source": [
        "# replaces all instances of \u0027like\u0027 with \u0027love\u0027\n",
        "s.replace(\u0027like\u0027, \u0027love\u0027)"
      ]
    },
    {
      "cell_type": "markdown",
      "metadata": {
        "pycharm": {}
      },
      "source": [
        "**Split a string:**"
      ]
    },
    {
      "cell_type": "code",
      "execution_count": 329,
      "metadata": {
        "collapsed": false,
        "pycharm": {}
      },
      "outputs": [
        {
          "data": {
            "text/plain": [
              "[\u0027I\u0027, \u0027like\u0027, \u0027you\u0027]"
            ]
          },
          "execution_count": 329,
          "metadata": {},
          "output_type": "execute_result"
        }
      ],
      "source": [
        "# split a string into a list of substrings separated by a delimiter\n",
        "s.split(\u0027 \u0027)"
      ]
    },
    {
      "cell_type": "code",
      "execution_count": 330,
      "metadata": {
        "collapsed": false,
        "pycharm": {}
      },
      "outputs": [
        {
          "data": {
            "text/plain": [
              "[\u0027I\u0027, \u0027like\u0027, \u0027you\u0027]"
            ]
          },
          "execution_count": 330,
          "metadata": {},
          "output_type": "execute_result"
        }
      ],
      "source": [
        "# equivalent (since space is the default delimiter)\n",
        "s.split()"
      ]
    },
    {
      "cell_type": "code",
      "execution_count": 331,
      "metadata": {
        "collapsed": false,
        "pycharm": {}
      },
      "outputs": [
        {
          "data": {
            "text/plain": [
              "[\u0027a\u0027, \u0027 an\u0027, \u0027 the\u0027]"
            ]
          },
          "execution_count": 331,
          "metadata": {},
          "output_type": "execute_result"
        }
      ],
      "source": [
        "s2 \u003d \u0027a, an, the\u0027\n",
        "s2.split(\u0027,\u0027)"
      ]
    },
    {
      "cell_type": "markdown",
      "metadata": {
        "pycharm": {}
      },
      "source": [
        "**Join or concatenate strings:**"
      ]
    },
    {
      "cell_type": "code",
      "execution_count": 332,
      "metadata": {
        "collapsed": false,
        "pycharm": {}
      },
      "outputs": [
        {
          "data": {
            "text/plain": [
              "\u0027larry curly moe\u0027"
            ]
          },
          "execution_count": 332,
          "metadata": {},
          "output_type": "execute_result"
        }
      ],
      "source": [
        "# join a list of strings into one string using a delimiter\n",
        "stooges \u003d [\u0027larry\u0027, \u0027curly\u0027, \u0027moe\u0027]\n",
        "\u0027 \u0027.join(stooges)"
      ]
    },
    {
      "cell_type": "code",
      "execution_count": 333,
      "metadata": {
        "collapsed": false,
        "scrolled": true,
        "pycharm": {}
      },
      "outputs": [
        {
          "data": {
            "text/plain": [
              "\u0027The meaning of life is 42\u0027"
            ]
          },
          "execution_count": 333,
          "metadata": {},
          "output_type": "execute_result"
        }
      ],
      "source": [
        "# concatenate strings\n",
        "s3 \u003d \u0027The meaning of life is\u0027\n",
        "s4 \u003d \u002742\u0027\n",
        "s3 + \u0027 \u0027 + s4"
      ]
    },
    {
      "cell_type": "markdown",
      "metadata": {
        "pycharm": {}
      },
      "source": [
        "**Remove whitespace from the start and end of a string:**"
      ]
    },
    {
      "cell_type": "code",
      "execution_count": 334,
      "metadata": {
        "collapsed": false,
        "pycharm": {}
      },
      "outputs": [
        {
          "data": {
            "text/plain": [
              "\u0027ham and cheese\u0027"
            ]
          },
          "execution_count": 334,
          "metadata": {},
          "output_type": "execute_result"
        }
      ],
      "source": [
        "s5 \u003d \u0027  ham and cheese  \u0027\n",
        "s5.strip()"
      ]
    },
    {
      "cell_type": "markdown",
      "metadata": {
        "pycharm": {}
      },
      "source": [
        "**String substitutions:**"
      ]
    },
    {
      "cell_type": "code",
      "execution_count": 335,
      "metadata": {
        "collapsed": false,
        "pycharm": {}
      },
      "outputs": [
        {
          "data": {
            "text/plain": [
              "\u0027raining cats and dogs\u0027"
            ]
          },
          "execution_count": 335,
          "metadata": {},
          "output_type": "execute_result"
        }
      ],
      "source": [
        "# old way\n",
        "\u0027raining %s and %s\u0027 % (\u0027cats\u0027, \u0027dogs\u0027)"
      ]
    },
    {
      "cell_type": "code",
      "execution_count": 336,
      "metadata": {
        "collapsed": false,
        "pycharm": {}
      },
      "outputs": [
        {
          "data": {
            "text/plain": [
              "\u0027raining cats and dogs\u0027"
            ]
          },
          "execution_count": 336,
          "metadata": {},
          "output_type": "execute_result"
        }
      ],
      "source": [
        "# new way\n",
        "\u0027raining {} and {}\u0027.format(\u0027cats\u0027, \u0027dogs\u0027)"
      ]
    },
    {
      "cell_type": "code",
      "execution_count": 337,
      "metadata": {
        "collapsed": false,
        "scrolled": true,
        "pycharm": {}
      },
      "outputs": [
        {
          "data": {
            "text/plain": [
              "\u0027raining cats and dogs\u0027"
            ]
          },
          "execution_count": 337,
          "metadata": {},
          "output_type": "execute_result"
        }
      ],
      "source": [
        "# new way (using named arguments)\n",
        "\u0027raining {arg1} and {arg2}\u0027.format(arg1\u003d\u0027cats\u0027, arg2\u003d\u0027dogs\u0027)"
      ]
    },
    {
      "cell_type": "markdown",
      "metadata": {
        "pycharm": {}
      },
      "source": [
        "**String formatting ([more examples](https://mkaz.tech/python-string-format.html)):**"
      ]
    },
    {
      "cell_type": "code",
      "execution_count": 338,
      "metadata": {
        "collapsed": false,
        "pycharm": {}
      },
      "outputs": [
        {
          "data": {
            "text/plain": [
              "\u0027pi is 3.14\u0027"
            ]
          },
          "execution_count": 338,
          "metadata": {},
          "output_type": "execute_result"
        }
      ],
      "source": [
        "# use 2 decimal places\n",
        "\u0027pi is {:.2f}\u0027.format(3.14159)"
      ]
    },
    {
      "cell_type": "markdown",
      "metadata": {
        "pycharm": {}
      },
      "source": [
        "**Normal strings versus raw strings:**"
      ]
    },
    {
      "cell_type": "code",
      "execution_count": 339,
      "metadata": {
        "collapsed": false,
        "pycharm": {}
      },
      "outputs": [
        {
          "name": "stdout",
          "output_type": "stream",
          "text": [
            "first line\nsecond line\n"
          ]
        }
      ],
      "source": [
        "# normal strings allow for escaped characters\n",
        "print(\u0027first line\\nsecond line\u0027)"
      ]
    },
    {
      "cell_type": "code",
      "execution_count": 340,
      "metadata": {
        "collapsed": false,
        "pycharm": {}
      },
      "outputs": [
        {
          "name": "stdout",
          "output_type": "stream",
          "text": [
            "first line\\nfirst line\n"
          ]
        }
      ],
      "source": [
        "# raw strings treat backslashes as literal characters\n",
        "print(r\u0027first line\\nfirst line\u0027)"
      ]
    },
    {
      "cell_type": "markdown",
      "metadata": {
        "pycharm": {}
      },
      "source": [
        "[\u003ca href\u003d\"#Python-Quick-Reference-by-Data-School\"\u003eBack to top\u003c/a\u003e]"
      ]
    },
    {
      "cell_type": "markdown",
      "metadata": {
        "pycharm": {}
      },
      "source": [
        "## 9. Dictionaries\n",
        "\n",
        "- **Dictionary properties:** unordered, iterable, mutable, can contain multiple data types\n",
        "- Made of key-value pairs\n",
        "- Keys must be unique, and can be strings, numbers, or tuples\n",
        "- Values can be any type"
      ]
    },
    {
      "cell_type": "code",
      "execution_count": 341,
      "metadata": {
        "collapsed": true,
        "pycharm": {}
      },
      "outputs": [],
      "source": [
        "# create an empty dictionary (two ways)\n",
        "empty_dict \u003d {}\n",
        "empty_dict \u003d dict()"
      ]
    },
    {
      "cell_type": "code",
      "execution_count": 342,
      "metadata": {
        "collapsed": false,
        "pycharm": {}
      },
      "outputs": [
        {
          "data": {
            "text/plain": [
              "{\u0027dad\u0027: \u0027homer\u0027, \u0027mom\u0027: \u0027marge\u0027, \u0027size\u0027: 6}"
            ]
          },
          "execution_count": 342,
          "metadata": {},
          "output_type": "execute_result"
        }
      ],
      "source": [
        "# create a dictionary (two ways)\n",
        "family \u003d {\u0027dad\u0027:\u0027homer\u0027, \u0027mom\u0027:\u0027marge\u0027, \u0027size\u0027:6}\n",
        "family \u003d dict(dad\u003d\u0027homer\u0027, mom\u003d\u0027marge\u0027, size\u003d6)\n",
        "family"
      ]
    },
    {
      "cell_type": "code",
      "execution_count": 343,
      "metadata": {
        "collapsed": false,
        "pycharm": {}
      },
      "outputs": [
        {
          "data": {
            "text/plain": [
              "{\u0027dad\u0027: \u0027homer\u0027, \u0027mom\u0027: \u0027marge\u0027, \u0027size\u0027: 6}"
            ]
          },
          "execution_count": 343,
          "metadata": {},
          "output_type": "execute_result"
        }
      ],
      "source": [
        "# convert a list of tuples into a dictionary\n",
        "list_of_tuples \u003d [(\u0027dad\u0027, \u0027homer\u0027), (\u0027mom\u0027, \u0027marge\u0027), (\u0027size\u0027, 6)]\n",
        "family \u003d dict(list_of_tuples)\n",
        "family"
      ]
    },
    {
      "cell_type": "markdown",
      "metadata": {
        "pycharm": {}
      },
      "source": [
        "**Examine a dictionary:**"
      ]
    },
    {
      "cell_type": "code",
      "execution_count": 344,
      "metadata": {
        "collapsed": false,
        "pycharm": {}
      },
      "outputs": [
        {
          "data": {
            "text/plain": [
              "\u0027homer\u0027"
            ]
          },
          "execution_count": 344,
          "metadata": {},
          "output_type": "execute_result"
        }
      ],
      "source": [
        "# pass a key to return its value\n",
        "family[\u0027dad\u0027]"
      ]
    },
    {
      "cell_type": "code",
      "execution_count": 345,
      "metadata": {
        "collapsed": false,
        "pycharm": {}
      },
      "outputs": [
        {
          "data": {
            "text/plain": [
              "3"
            ]
          },
          "execution_count": 345,
          "metadata": {},
          "output_type": "execute_result"
        }
      ],
      "source": [
        "# return the number of key-value pairs\n",
        "len(family)"
      ]
    },
    {
      "cell_type": "code",
      "execution_count": 346,
      "metadata": {
        "collapsed": false,
        "pycharm": {}
      },
      "outputs": [
        {
          "data": {
            "text/plain": [
              "True"
            ]
          },
          "execution_count": 346,
          "metadata": {},
          "output_type": "execute_result"
        }
      ],
      "source": [
        "# check if key exists in dictionary\n",
        "\u0027mom\u0027 in family"
      ]
    },
    {
      "cell_type": "code",
      "execution_count": 347,
      "metadata": {
        "collapsed": false,
        "pycharm": {}
      },
      "outputs": [
        {
          "data": {
            "text/plain": [
              "False"
            ]
          },
          "execution_count": 347,
          "metadata": {},
          "output_type": "execute_result"
        }
      ],
      "source": [
        "# dictionary values are not checked\n",
        "\u0027marge\u0027 in family"
      ]
    },
    {
      "cell_type": "code",
      "execution_count": 348,
      "metadata": {
        "collapsed": false,
        "pycharm": {}
      },
      "outputs": [
        {
          "data": {
            "text/plain": [
              "dict_keys([\u0027dad\u0027, \u0027mom\u0027, \u0027size\u0027])"
            ]
          },
          "execution_count": 348,
          "metadata": {},
          "output_type": "execute_result"
        }
      ],
      "source": [
        "# returns a list of keys (Python 2) or an iterable view (Python 3)\n",
        "family.keys()"
      ]
    },
    {
      "cell_type": "code",
      "execution_count": 349,
      "metadata": {
        "collapsed": false,
        "pycharm": {}
      },
      "outputs": [
        {
          "data": {
            "text/plain": [
              "dict_values([\u0027homer\u0027, \u0027marge\u0027, 6])"
            ]
          },
          "execution_count": 349,
          "metadata": {},
          "output_type": "execute_result"
        }
      ],
      "source": [
        "# returns a list of values (Python 2) or an iterable view (Python 3)\n",
        "family.values()"
      ]
    },
    {
      "cell_type": "code",
      "execution_count": 350,
      "metadata": {
        "collapsed": false,
        "pycharm": {}
      },
      "outputs": [
        {
          "data": {
            "text/plain": [
              "dict_items([(\u0027dad\u0027, \u0027homer\u0027), (\u0027mom\u0027, \u0027marge\u0027), (\u0027size\u0027, 6)])"
            ]
          },
          "execution_count": 350,
          "metadata": {},
          "output_type": "execute_result"
        }
      ],
      "source": [
        "# returns a list of key-value pairs (Python 2) or an iterable view (Python 3)\n",
        "family.items()"
      ]
    },
    {
      "cell_type": "markdown",
      "metadata": {
        "pycharm": {}
      },
      "source": [
        "**Modify a dictionary (does not return the dictionary):**"
      ]
    },
    {
      "cell_type": "code",
      "execution_count": 351,
      "metadata": {
        "collapsed": false,
        "pycharm": {}
      },
      "outputs": [
        {
          "data": {
            "text/plain": [
              "{\u0027dad\u0027: \u0027homer\u0027, \u0027mom\u0027: \u0027marge\u0027, \u0027size\u0027: 6, \u0027cat\u0027: \u0027snowball\u0027}"
            ]
          },
          "execution_count": 351,
          "metadata": {},
          "output_type": "execute_result"
        }
      ],
      "source": [
        "# add a new entry\n",
        "family[\u0027cat\u0027] \u003d \u0027snowball\u0027\n",
        "family"
      ]
    },
    {
      "cell_type": "code",
      "execution_count": 352,
      "metadata": {
        "collapsed": false,
        "pycharm": {}
      },
      "outputs": [
        {
          "data": {
            "text/plain": [
              "{\u0027dad\u0027: \u0027homer\u0027, \u0027mom\u0027: \u0027marge\u0027, \u0027size\u0027: 6, \u0027cat\u0027: \u0027snowball ii\u0027}"
            ]
          },
          "execution_count": 352,
          "metadata": {},
          "output_type": "execute_result"
        }
      ],
      "source": [
        "# edit an existing entry\n",
        "family[\u0027cat\u0027] \u003d \u0027snowball ii\u0027\n",
        "family"
      ]
    },
    {
      "cell_type": "code",
      "execution_count": 353,
      "metadata": {
        "collapsed": false,
        "pycharm": {}
      },
      "outputs": [
        {
          "data": {
            "text/plain": [
              "{\u0027dad\u0027: \u0027homer\u0027, \u0027mom\u0027: \u0027marge\u0027, \u0027size\u0027: 6}"
            ]
          },
          "execution_count": 353,
          "metadata": {},
          "output_type": "execute_result"
        }
      ],
      "source": [
        "# delete an entry\n",
        "del family[\u0027cat\u0027]\n",
        "family"
      ]
    },
    {
      "cell_type": "code",
      "execution_count": 354,
      "metadata": {
        "collapsed": false,
        "pycharm": {}
      },
      "outputs": [
        {
          "data": {
            "text/plain": [
              "{\u0027dad\u0027: \u0027homer\u0027, \u0027mom\u0027: \u0027marge\u0027, \u0027size\u0027: 6, \u0027kids\u0027: [\u0027bart\u0027, \u0027lisa\u0027]}"
            ]
          },
          "execution_count": 354,
          "metadata": {},
          "output_type": "execute_result"
        }
      ],
      "source": [
        "# dictionary value can be a list\n",
        "family[\u0027kids\u0027] \u003d [\u0027bart\u0027, \u0027lisa\u0027]\n",
        "family"
      ]
    },
    {
      "cell_type": "code",
      "execution_count": 355,
      "metadata": {
        "collapsed": false,
        "pycharm": {}
      },
      "outputs": [
        {
          "data": {
            "text/plain": [
              "\u0027homer\u0027"
            ]
          },
          "execution_count": 355,
          "metadata": {},
          "output_type": "execute_result"
        }
      ],
      "source": [
        "# remove an entry and return the value\n",
        "family.pop(\u0027dad\u0027)"
      ]
    },
    {
      "cell_type": "code",
      "execution_count": 356,
      "metadata": {
        "collapsed": false,
        "pycharm": {}
      },
      "outputs": [
        {
          "data": {
            "text/plain": [
              "{\u0027mom\u0027: \u0027marge\u0027,\n \u0027size\u0027: 6,\n \u0027kids\u0027: [\u0027bart\u0027, \u0027lisa\u0027],\n \u0027baby\u0027: \u0027maggie\u0027,\n \u0027grandpa\u0027: \u0027abe\u0027}"
            ]
          },
          "execution_count": 356,
          "metadata": {},
          "output_type": "execute_result"
        }
      ],
      "source": [
        "# add multiple entries\n",
        "family.update({\u0027baby\u0027:\u0027maggie\u0027, \u0027grandpa\u0027:\u0027abe\u0027})\n",
        "family"
      ]
    },
    {
      "cell_type": "markdown",
      "metadata": {
        "pycharm": {}
      },
      "source": [
        "**Access values more safely with `get`:**"
      ]
    },
    {
      "cell_type": "code",
      "execution_count": 357,
      "metadata": {
        "collapsed": false,
        "pycharm": {}
      },
      "outputs": [
        {
          "data": {
            "text/plain": [
              "\u0027marge\u0027"
            ]
          },
          "execution_count": 357,
          "metadata": {},
          "output_type": "execute_result"
        }
      ],
      "source": [
        "family[\u0027mom\u0027]"
      ]
    },
    {
      "cell_type": "code",
      "execution_count": 358,
      "metadata": {
        "collapsed": false,
        "pycharm": {}
      },
      "outputs": [
        {
          "data": {
            "text/plain": [
              "\u0027marge\u0027"
            ]
          },
          "execution_count": 358,
          "metadata": {},
          "output_type": "execute_result"
        }
      ],
      "source": [
        "# equivalent to a dictionary lookup\n",
        "family.get(\u0027mom\u0027)"
      ]
    },
    {
      "cell_type": "code",
      "execution_count": 359,
      "metadata": {
        "collapsed": false,
        "pycharm": {}
      },
      "outputs": [],
      "source": [
        "# this would throw an error since the key does not exist\n",
        "# family[\u0027grandma\u0027]"
      ]
    },
    {
      "cell_type": "code",
      "execution_count": 360,
      "metadata": {
        "collapsed": true,
        "pycharm": {}
      },
      "outputs": [],
      "source": [
        "# return None if not found\n",
        "family.get(\u0027grandma\u0027)"
      ]
    },
    {
      "cell_type": "code",
      "execution_count": 361,
      "metadata": {
        "collapsed": false,
        "pycharm": {}
      },
      "outputs": [
        {
          "data": {
            "text/plain": [
              "\u0027not found\u0027"
            ]
          },
          "execution_count": 361,
          "metadata": {},
          "output_type": "execute_result"
        }
      ],
      "source": [
        "# provide a default return value if not found\n",
        "family.get(\u0027grandma\u0027, \u0027not found\u0027)"
      ]
    },
    {
      "cell_type": "markdown",
      "metadata": {
        "pycharm": {}
      },
      "source": [
        "**Access a list element within a dictionary:**"
      ]
    },
    {
      "cell_type": "code",
      "execution_count": 362,
      "metadata": {
        "collapsed": false,
        "pycharm": {}
      },
      "outputs": [
        {
          "data": {
            "text/plain": [
              "\u0027bart\u0027"
            ]
          },
          "execution_count": 362,
          "metadata": {},
          "output_type": "execute_result"
        }
      ],
      "source": [
        "family[\u0027kids\u0027][0]"
      ]
    },
    {
      "cell_type": "code",
      "execution_count": 363,
      "metadata": {
        "collapsed": false,
        "pycharm": {}
      },
      "outputs": [
        {
          "data": {
            "text/plain": [
              "{\u0027mom\u0027: \u0027marge\u0027,\n \u0027size\u0027: 6,\n \u0027kids\u0027: [\u0027bart\u0027],\n \u0027baby\u0027: \u0027maggie\u0027,\n \u0027grandpa\u0027: \u0027abe\u0027}"
            ]
          },
          "execution_count": 363,
          "metadata": {},
          "output_type": "execute_result"
        }
      ],
      "source": [
        "family[\u0027kids\u0027].remove(\u0027lisa\u0027)\n",
        "family"
      ]
    },
    {
      "cell_type": "markdown",
      "metadata": {
        "pycharm": {}
      },
      "source": [
        "**String substitution using a dictionary:**"
      ]
    },
    {
      "cell_type": "code",
      "execution_count": 364,
      "metadata": {
        "collapsed": false,
        "pycharm": {}
      },
      "outputs": [
        {
          "data": {
            "text/plain": [
              "\u0027youngest child is maggie\u0027"
            ]
          },
          "execution_count": 364,
          "metadata": {},
          "output_type": "execute_result"
        }
      ],
      "source": [
        "\u0027youngest child is %(baby)s\u0027 % family"
      ]
    },
    {
      "cell_type": "markdown",
      "metadata": {
        "pycharm": {}
      },
      "source": [
        "[\u003ca href\u003d\"#Python-Quick-Reference-by-Data-School\"\u003eBack to top\u003c/a\u003e]"
      ]
    },
    {
      "cell_type": "markdown",
      "metadata": {
        "pycharm": {}
      },
      "source": [
        "## 10. Sets\n",
        "\n",
        "- **Set properties:** unordered, iterable, mutable, can contain multiple data types\n",
        "- Made of unique elements (strings, numbers, or tuples)\n",
        "- Like dictionaries, but with keys only (no values)"
      ]
    },
    {
      "cell_type": "code",
      "execution_count": 365,
      "metadata": {
        "collapsed": true,
        "pycharm": {}
      },
      "outputs": [],
      "source": [
        "# create an empty set\n",
        "empty_set \u003d set()"
      ]
    },
    {
      "cell_type": "code",
      "execution_count": 366,
      "metadata": {
        "collapsed": true,
        "pycharm": {}
      },
      "outputs": [],
      "source": [
        "# create a set directly\n",
        "languages \u003d {\u0027python\u0027, \u0027r\u0027, \u0027java\u0027}"
      ]
    },
    {
      "cell_type": "code",
      "execution_count": 367,
      "metadata": {
        "collapsed": true,
        "pycharm": {}
      },
      "outputs": [],
      "source": [
        "# create a set from a list\n",
        "snakes \u003d set([\u0027cobra\u0027, \u0027viper\u0027, \u0027python\u0027])"
      ]
    },
    {
      "cell_type": "markdown",
      "metadata": {
        "pycharm": {}
      },
      "source": [
        "**Examine a set:**"
      ]
    },
    {
      "cell_type": "code",
      "execution_count": 368,
      "metadata": {
        "collapsed": false,
        "pycharm": {}
      },
      "outputs": [
        {
          "data": {
            "text/plain": [
              "3"
            ]
          },
          "execution_count": 368,
          "metadata": {},
          "output_type": "execute_result"
        }
      ],
      "source": [
        "len(languages)"
      ]
    },
    {
      "cell_type": "code",
      "execution_count": 369,
      "metadata": {
        "collapsed": false,
        "pycharm": {}
      },
      "outputs": [
        {
          "data": {
            "text/plain": [
              "True"
            ]
          },
          "execution_count": 369,
          "metadata": {},
          "output_type": "execute_result"
        }
      ],
      "source": [
        "\u0027python\u0027 in languages"
      ]
    },
    {
      "cell_type": "markdown",
      "metadata": {
        "pycharm": {}
      },
      "source": [
        "**Set operations:**"
      ]
    },
    {
      "cell_type": "code",
      "execution_count": 370,
      "metadata": {
        "collapsed": false,
        "pycharm": {}
      },
      "outputs": [
        {
          "data": {
            "text/plain": [
              "{\u0027python\u0027}"
            ]
          },
          "execution_count": 370,
          "metadata": {},
          "output_type": "execute_result"
        }
      ],
      "source": [
        "# intersection\n",
        "languages \u0026 snakes"
      ]
    },
    {
      "cell_type": "code",
      "execution_count": 371,
      "metadata": {
        "collapsed": false,
        "pycharm": {}
      },
      "outputs": [
        {
          "data": {
            "text/plain": [
              "{\u0027cobra\u0027, \u0027java\u0027, \u0027python\u0027, \u0027r\u0027, \u0027viper\u0027}"
            ]
          },
          "execution_count": 371,
          "metadata": {},
          "output_type": "execute_result"
        }
      ],
      "source": [
        "# union\n",
        "languages | snakes"
      ]
    },
    {
      "cell_type": "code",
      "execution_count": 372,
      "metadata": {
        "collapsed": false,
        "pycharm": {}
      },
      "outputs": [
        {
          "data": {
            "text/plain": [
              "{\u0027java\u0027, \u0027r\u0027}"
            ]
          },
          "execution_count": 372,
          "metadata": {},
          "output_type": "execute_result"
        }
      ],
      "source": [
        "# set difference\n",
        "languages - snakes"
      ]
    },
    {
      "cell_type": "code",
      "execution_count": 373,
      "metadata": {
        "collapsed": false,
        "pycharm": {}
      },
      "outputs": [
        {
          "data": {
            "text/plain": [
              "{\u0027cobra\u0027, \u0027viper\u0027}"
            ]
          },
          "execution_count": 373,
          "metadata": {},
          "output_type": "execute_result"
        }
      ],
      "source": [
        "# set difference\n",
        "snakes - languages"
      ]
    },
    {
      "cell_type": "markdown",
      "metadata": {
        "pycharm": {}
      },
      "source": [
        "**Modify a set (does not return the set):**"
      ]
    },
    {
      "cell_type": "code",
      "execution_count": 374,
      "metadata": {
        "collapsed": false,
        "pycharm": {}
      },
      "outputs": [
        {
          "data": {
            "text/plain": [
              "{\u0027java\u0027, \u0027python\u0027, \u0027r\u0027, \u0027sql\u0027}"
            ]
          },
          "execution_count": 374,
          "metadata": {},
          "output_type": "execute_result"
        }
      ],
      "source": [
        "# add a new element\n",
        "languages.add(\u0027sql\u0027)\n",
        "languages"
      ]
    },
    {
      "cell_type": "code",
      "execution_count": 375,
      "metadata": {
        "collapsed": false,
        "pycharm": {}
      },
      "outputs": [
        {
          "data": {
            "text/plain": [
              "{\u0027java\u0027, \u0027python\u0027, \u0027r\u0027, \u0027sql\u0027}"
            ]
          },
          "execution_count": 375,
          "metadata": {},
          "output_type": "execute_result"
        }
      ],
      "source": [
        "# try to add an existing element (ignored, no error)\n",
        "languages.add(\u0027r\u0027)\n",
        "languages"
      ]
    },
    {
      "cell_type": "code",
      "execution_count": 376,
      "metadata": {
        "collapsed": false,
        "pycharm": {}
      },
      "outputs": [
        {
          "data": {
            "text/plain": [
              "{\u0027python\u0027, \u0027r\u0027, \u0027sql\u0027}"
            ]
          },
          "execution_count": 376,
          "metadata": {},
          "output_type": "execute_result"
        }
      ],
      "source": [
        "# remove an element\n",
        "languages.remove(\u0027java\u0027)\n",
        "languages"
      ]
    },
    {
      "cell_type": "code",
      "execution_count": 377,
      "metadata": {
        "collapsed": false,
        "pycharm": {}
      },
      "outputs": [],
      "source": [
        "# try to remove a non-existing element (this would throw an error)\n",
        "# languages.remove(\u0027c\u0027)"
      ]
    },
    {
      "cell_type": "code",
      "execution_count": 378,
      "metadata": {
        "collapsed": false,
        "pycharm": {}
      },
      "outputs": [
        {
          "data": {
            "text/plain": [
              "{\u0027python\u0027, \u0027r\u0027, \u0027sql\u0027}"
            ]
          },
          "execution_count": 378,
          "metadata": {},
          "output_type": "execute_result"
        }
      ],
      "source": [
        "# remove an element if present, but ignored otherwise\n",
        "languages.discard(\u0027c\u0027)\n",
        "languages"
      ]
    },
    {
      "cell_type": "code",
      "execution_count": 379,
      "metadata": {
        "collapsed": false,
        "pycharm": {}
      },
      "outputs": [
        {
          "data": {
            "text/plain": [
              "\u0027sql\u0027"
            ]
          },
          "execution_count": 379,
          "metadata": {},
          "output_type": "execute_result"
        }
      ],
      "source": [
        "# remove and return an arbitrary element\n",
        "languages.pop()"
      ]
    },
    {
      "cell_type": "code",
      "execution_count": 380,
      "metadata": {
        "collapsed": false,
        "pycharm": {}
      },
      "outputs": [
        {
          "data": {
            "text/plain": [
              "set()"
            ]
          },
          "execution_count": 380,
          "metadata": {},
          "output_type": "execute_result"
        }
      ],
      "source": [
        "# remove all elements\n",
        "languages.clear()\n",
        "languages"
      ]
    },
    {
      "cell_type": "code",
      "execution_count": 381,
      "metadata": {
        "collapsed": false,
        "pycharm": {}
      },
      "outputs": [
        {
          "data": {
            "text/plain": [
              "{\u0027go\u0027, \u0027spark\u0027}"
            ]
          },
          "execution_count": 381,
          "metadata": {},
          "output_type": "execute_result"
        }
      ],
      "source": [
        "# add multiple elements (can also pass a set)\n",
        "languages.update([\u0027go\u0027, \u0027spark\u0027])\n",
        "languages"
      ]
    },
    {
      "cell_type": "markdown",
      "metadata": {
        "pycharm": {}
      },
      "source": [
        "**Get a sorted list of unique elements from a list:**"
      ]
    },
    {
      "cell_type": "code",
      "execution_count": 382,
      "metadata": {
        "collapsed": false,
        "pycharm": {}
      },
      "outputs": [
        {
          "data": {
            "text/plain": [
              "[0, 1, 2, 9]"
            ]
          },
          "execution_count": 382,
          "metadata": {},
          "output_type": "execute_result"
        }
      ],
      "source": [
        "sorted(set([9, 0, 2, 1, 0]))"
      ]
    },
    {
      "cell_type": "markdown",
      "metadata": {
        "pycharm": {}
      },
      "source": [
        "[\u003ca href\u003d\"#Python-Quick-Reference-by-Data-School\"\u003eBack to top\u003c/a\u003e]"
      ]
    },
    {
      "cell_type": "markdown",
      "metadata": {
        "pycharm": {}
      },
      "source": [
        "## 11. Defining Functions"
      ]
    },
    {
      "cell_type": "markdown",
      "metadata": {
        "pycharm": {}
      },
      "source": [
        "**Define a function with no arguments and no return values:**"
      ]
    },
    {
      "cell_type": "code",
      "execution_count": 383,
      "metadata": {
        "collapsed": true,
        "pycharm": {}
      },
      "outputs": [],
      "source": [
        "def print_text():\n",
        "    print(\u0027this is text\u0027)"
      ]
    },
    {
      "cell_type": "code",
      "execution_count": 384,
      "metadata": {
        "collapsed": false,
        "pycharm": {}
      },
      "outputs": [
        {
          "name": "stdout",
          "output_type": "stream",
          "text": [
            "this is text\n"
          ]
        }
      ],
      "source": [
        "# call the function\n",
        "print_text()"
      ]
    },
    {
      "cell_type": "markdown",
      "metadata": {
        "pycharm": {}
      },
      "source": [
        "**Define a function with one argument and no return values:**"
      ]
    },
    {
      "cell_type": "code",
      "execution_count": 385,
      "metadata": {
        "collapsed": true,
        "pycharm": {}
      },
      "outputs": [],
      "source": [
        "def print_this(x):\n",
        "    print(x)"
      ]
    },
    {
      "cell_type": "code",
      "execution_count": 386,
      "metadata": {
        "collapsed": false,
        "pycharm": {}
      },
      "outputs": [
        {
          "name": "stdout",
          "output_type": "stream",
          "text": [
            "3\n"
          ]
        }
      ],
      "source": [
        "# call the function\n",
        "print_this(3)"
      ]
    },
    {
      "cell_type": "code",
      "execution_count": 387,
      "metadata": {
        "collapsed": false,
        "pycharm": {}
      },
      "outputs": [
        {
          "name": "stdout",
          "output_type": "stream",
          "text": [
            "3\n"
          ]
        }
      ],
      "source": [
        "# prints 3, but doesn\u0027t assign 3 to n because the function has no return statement\n",
        "n \u003d print_this(3)"
      ]
    },
    {
      "cell_type": "markdown",
      "metadata": {
        "pycharm": {}
      },
      "source": [
        "**Define a function with one argument and one return value:**"
      ]
    },
    {
      "cell_type": "code",
      "execution_count": 388,
      "metadata": {
        "collapsed": true,
        "pycharm": {}
      },
      "outputs": [],
      "source": [
        "def square_this(x):\n",
        "    return x**2"
      ]
    },
    {
      "cell_type": "code",
      "execution_count": 389,
      "metadata": {
        "collapsed": true,
        "pycharm": {}
      },
      "outputs": [],
      "source": [
        "# include an optional docstring to describe the effect of a function\n",
        "def square_this(x):\n",
        "    \"\"\"Return the square of a number.\"\"\"\n",
        "    return x**2"
      ]
    },
    {
      "cell_type": "code",
      "execution_count": 390,
      "metadata": {
        "collapsed": false,
        "pycharm": {}
      },
      "outputs": [
        {
          "data": {
            "text/plain": [
              "9"
            ]
          },
          "execution_count": 390,
          "metadata": {},
          "output_type": "execute_result"
        }
      ],
      "source": [
        "# call the function\n",
        "square_this(3)"
      ]
    },
    {
      "cell_type": "code",
      "execution_count": 391,
      "metadata": {
        "collapsed": true,
        "pycharm": {}
      },
      "outputs": [],
      "source": [
        "# assigns 9 to var, but does not print 9\n",
        "var \u003d square_this(3)"
      ]
    },
    {
      "cell_type": "markdown",
      "metadata": {
        "pycharm": {}
      },
      "source": [
        "**Define a function with two \u0027positional arguments\u0027 (no default values) and one \u0027keyword argument\u0027 (has a default value):**\n"
      ]
    },
    {
      "cell_type": "code",
      "execution_count": 392,
      "metadata": {
        "collapsed": true,
        "pycharm": {}
      },
      "outputs": [],
      "source": [
        "def calc(a, b, op\u003d\u0027add\u0027):\n",
        "    if op \u003d\u003d \u0027add\u0027:\n",
        "        return a + b\n",
        "    elif op \u003d\u003d \u0027sub\u0027:\n",
        "        return a - b\n",
        "    else:\n",
        "        print(\u0027valid operations are add and sub\u0027)"
      ]
    },
    {
      "cell_type": "code",
      "execution_count": 393,
      "metadata": {
        "collapsed": false,
        "pycharm": {}
      },
      "outputs": [
        {
          "data": {
            "text/plain": [
              "14"
            ]
          },
          "execution_count": 393,
          "metadata": {},
          "output_type": "execute_result"
        }
      ],
      "source": [
        "# call the function\n",
        "calc(10, 4, op\u003d\u0027add\u0027)"
      ]
    },
    {
      "cell_type": "code",
      "execution_count": 394,
      "metadata": {
        "collapsed": false,
        "pycharm": {}
      },
      "outputs": [
        {
          "data": {
            "text/plain": [
              "14"
            ]
          },
          "execution_count": 394,
          "metadata": {},
          "output_type": "execute_result"
        }
      ],
      "source": [
        "# unnamed arguments are inferred by position\n",
        "calc(10, 4, \u0027add\u0027)"
      ]
    },
    {
      "cell_type": "code",
      "execution_count": 395,
      "metadata": {
        "collapsed": false,
        "pycharm": {}
      },
      "outputs": [
        {
          "data": {
            "text/plain": [
              "14"
            ]
          },
          "execution_count": 395,
          "metadata": {},
          "output_type": "execute_result"
        }
      ],
      "source": [
        "# default for \u0027op\u0027 is \u0027add\u0027\n",
        "calc(10, 4)"
      ]
    },
    {
      "cell_type": "code",
      "execution_count": 396,
      "metadata": {
        "collapsed": false,
        "pycharm": {}
      },
      "outputs": [
        {
          "data": {
            "text/plain": [
              "6"
            ]
          },
          "execution_count": 396,
          "metadata": {},
          "output_type": "execute_result"
        }
      ],
      "source": [
        "calc(10, 4, \u0027sub\u0027)"
      ]
    },
    {
      "cell_type": "code",
      "execution_count": 397,
      "metadata": {
        "collapsed": false,
        "pycharm": {}
      },
      "outputs": [
        {
          "name": "stdout",
          "output_type": "stream",
          "text": [
            "valid operations are add and sub\n"
          ]
        }
      ],
      "source": [
        "calc(10, 4, \u0027div\u0027)"
      ]
    },
    {
      "cell_type": "markdown",
      "metadata": {
        "pycharm": {}
      },
      "source": [
        "**Use `pass` as a placeholder if you haven\u0027t written the function body:**"
      ]
    },
    {
      "cell_type": "code",
      "execution_count": 398,
      "metadata": {
        "collapsed": true,
        "pycharm": {}
      },
      "outputs": [],
      "source": [
        "def stub():\n",
        "    pass"
      ]
    },
    {
      "cell_type": "markdown",
      "metadata": {
        "pycharm": {}
      },
      "source": [
        "**Return two values from a single function:**"
      ]
    },
    {
      "cell_type": "code",
      "execution_count": 399,
      "metadata": {
        "collapsed": true,
        "pycharm": {}
      },
      "outputs": [],
      "source": [
        "def min_max(nums):\n",
        "    return min(nums), max(nums)"
      ]
    },
    {
      "cell_type": "code",
      "execution_count": 400,
      "metadata": {
        "collapsed": false,
        "pycharm": {}
      },
      "outputs": [
        {
          "data": {
            "text/plain": [
              "(1, 3)"
            ]
          },
          "execution_count": 400,
          "metadata": {},
          "output_type": "execute_result"
        }
      ],
      "source": [
        "# return values can be assigned to a single variable as a tuple\n",
        "nums \u003d [1, 2, 3]\n",
        "min_max_num \u003d min_max(nums)\n",
        "min_max_num"
      ]
    },
    {
      "cell_type": "code",
      "execution_count": 401,
      "metadata": {
        "collapsed": false,
        "pycharm": {}
      },
      "outputs": [
        {
          "name": "stdout",
          "output_type": "stream",
          "text": [
            "1\n3\n"
          ]
        }
      ],
      "source": [
        "# return values can be assigned into multiple variables using tuple unpacking\n",
        "min_num, max_num \u003d min_max(nums)\n",
        "print(min_num)\n",
        "print(max_num)"
      ]
    },
    {
      "cell_type": "markdown",
      "metadata": {
        "pycharm": {}
      },
      "source": [
        "[\u003ca href\u003d\"#Python-Quick-Reference-by-Data-School\"\u003eBack to top\u003c/a\u003e]"
      ]
    },
    {
      "cell_type": "markdown",
      "metadata": {
        "pycharm": {}
      },
      "source": [
        "## 12. Anonymous (Lambda) Functions\n",
        "\n",
        "- Primarily used to temporarily define a function for use by another function"
      ]
    },
    {
      "cell_type": "code",
      "execution_count": 402,
      "metadata": {
        "collapsed": true,
        "pycharm": {}
      },
      "outputs": [],
      "source": [
        "# define a function the \"usual\" way\n",
        "def squared(x):\n",
        "    return x**2"
      ]
    },
    {
      "cell_type": "code",
      "execution_count": 403,
      "metadata": {
        "collapsed": true,
        "pycharm": {}
      },
      "outputs": [],
      "source": [
        "# define an identical function using lambda\n",
        "squared \u003d lambda x: x**2"
      ]
    },
    {
      "cell_type": "markdown",
      "metadata": {
        "pycharm": {}
      },
      "source": [
        "**Sort a list of strings by the last letter:**"
      ]
    },
    {
      "cell_type": "code",
      "execution_count": 404,
      "metadata": {
        "collapsed": false,
        "pycharm": {}
      },
      "outputs": [
        {
          "data": {
            "text/plain": [
              "[\u0027marge\u0027, \u0027homer\u0027, \u0027bart\u0027]"
            ]
          },
          "execution_count": 404,
          "metadata": {},
          "output_type": "execute_result"
        }
      ],
      "source": [
        "# without using lambda\n",
        "simpsons \u003d [\u0027homer\u0027, \u0027marge\u0027, \u0027bart\u0027]\n",
        "def last_letter(word):\n",
        "    return word[-1]\n",
        "sorted(simpsons, key\u003dlast_letter)"
      ]
    },
    {
      "cell_type": "code",
      "execution_count": 405,
      "metadata": {
        "collapsed": false,
        "pycharm": {}
      },
      "outputs": [
        {
          "data": {
            "text/plain": [
              "[\u0027marge\u0027, \u0027homer\u0027, \u0027bart\u0027]"
            ]
          },
          "execution_count": 405,
          "metadata": {},
          "output_type": "execute_result"
        }
      ],
      "source": [
        "# using lambda\n",
        "sorted(simpsons, key\u003dlambda word: word[-1])"
      ]
    },
    {
      "cell_type": "markdown",
      "metadata": {
        "pycharm": {}
      },
      "source": [
        "[\u003ca href\u003d\"#Python-Quick-Reference-by-Data-School\"\u003eBack to top\u003c/a\u003e]"
      ]
    },
    {
      "cell_type": "markdown",
      "metadata": {
        "pycharm": {}
      },
      "source": [
        "## 13. For Loops and While Loops"
      ]
    },
    {
      "cell_type": "markdown",
      "metadata": {
        "pycharm": {}
      },
      "source": [
        "**`range` returns a list of integers (Python 2) or a sequence (Python 3):**"
      ]
    },
    {
      "cell_type": "code",
      "execution_count": 406,
      "metadata": {
        "collapsed": false,
        "pycharm": {}
      },
      "outputs": [
        {
          "data": {
            "text/plain": [
              "range(0, 3)"
            ]
          },
          "execution_count": 406,
          "metadata": {},
          "output_type": "execute_result"
        }
      ],
      "source": [
        "# includes the start value but excludes the stop value\n",
        "range(0, 3)"
      ]
    },
    {
      "cell_type": "code",
      "execution_count": 407,
      "metadata": {
        "collapsed": false,
        "pycharm": {}
      },
      "outputs": [
        {
          "data": {
            "text/plain": [
              "range(0, 3)"
            ]
          },
          "execution_count": 407,
          "metadata": {},
          "output_type": "execute_result"
        }
      ],
      "source": [
        "# default start value is 0\n",
        "range(3)"
      ]
    },
    {
      "cell_type": "code",
      "execution_count": 408,
      "metadata": {
        "collapsed": false,
        "pycharm": {}
      },
      "outputs": [
        {
          "data": {
            "text/plain": [
              "range(0, 5, 2)"
            ]
          },
          "execution_count": 408,
          "metadata": {},
          "output_type": "execute_result"
        }
      ],
      "source": [
        "# third argument is the step value\n",
        "range(0, 5, 2)"
      ]
    },
    {
      "cell_type": "code",
      "execution_count": 409,
      "metadata": {
        "collapsed": false,
        "pycharm": {}
      },
      "outputs": [
        {
          "ename": "NameError",
          "evalue": "name \u0027xrange\u0027 is not defined",
          "traceback": [
            "\u001b[1;31m---------------------------------------------------------------------------\u001b[0m",
            "\u001b[1;31mNameError\u001b[0m                                 Traceback (most recent call last)",
            "\u001b[1;32m\u003cipython-input-409-fef75cee161d\u003e\u001b[0m in \u001b[0;36m\u003cmodule\u003e\u001b[1;34m\u001b[0m\n\u001b[0;32m      1\u001b[0m \u001b[1;31m# Python 2 only: use xrange to create a sequence rather than a list (saves memory)\u001b[0m\u001b[1;33m\u001b[0m\u001b[1;33m\u001b[0m\u001b[1;33m\u001b[0m\u001b[0m\n\u001b[1;32m----\u003e 2\u001b[1;33m \u001b[0mxrange\u001b[0m\u001b[1;33m(\u001b[0m\u001b[1;36m100\u001b[0m\u001b[1;33m,\u001b[0m \u001b[1;36m100000\u001b[0m\u001b[1;33m,\u001b[0m \u001b[1;36m5\u001b[0m\u001b[1;33m)\u001b[0m\u001b[1;33m\u001b[0m\u001b[1;33m\u001b[0m\u001b[0m\n\u001b[0m",
            "\u001b[1;31mNameError\u001b[0m: name \u0027xrange\u0027 is not defined"
          ],
          "output_type": "error"
        }
      ],
      "source": [
        "# Python 2 only: use xrange to create a sequence rather than a list (saves memory)\n",
        "xrange(100, 100000, 5)"
      ]
    },
    {
      "cell_type": "markdown",
      "metadata": {
        "pycharm": {}
      },
      "source": [
        "**`for` loops:**"
      ]
    },
    {
      "cell_type": "code",
      "execution_count": 410,
      "metadata": {
        "collapsed": false,
        "pycharm": {}
      },
      "outputs": [
        {
          "name": "stdout",
          "output_type": "stream",
          "text": [
            "APPLE\nBANANA\nCHERRY\n"
          ]
        }
      ],
      "source": [
        "# not the recommended style\n",
        "fruits \u003d [\u0027apple\u0027, \u0027banana\u0027, \u0027cherry\u0027]\n",
        "for i in range(len(fruits)):\n",
        "    print(fruits[i].upper())"
      ]
    },
    {
      "cell_type": "code",
      "execution_count": 411,
      "metadata": {
        "collapsed": false,
        "pycharm": {}
      },
      "outputs": [
        {
          "name": "stdout",
          "output_type": "stream",
          "text": [
            "APPLE\nBANANA\nCHERRY\n"
          ]
        }
      ],
      "source": [
        "# recommended style\n",
        "for fruit in fruits:\n",
        "    print(fruit.upper())"
      ]
    },
    {
      "cell_type": "code",
      "execution_count": 412,
      "metadata": {
        "collapsed": false,
        "pycharm": {}
      },
      "outputs": [
        {
          "name": "stdout",
          "output_type": "stream",
          "text": [
            "dad homer\nmom marge\nsize 6\n"
          ]
        }
      ],
      "source": [
        "# iterate through two things at once (using tuple unpacking)\n",
        "family \u003d {\u0027dad\u0027:\u0027homer\u0027, \u0027mom\u0027:\u0027marge\u0027, \u0027size\u0027:6}\n",
        "for key, value in family.items():\n",
        "    print(key, value)"
      ]
    },
    {
      "cell_type": "code",
      "execution_count": 413,
      "metadata": {
        "collapsed": false,
        "pycharm": {}
      },
      "outputs": [
        {
          "name": "stdout",
          "output_type": "stream",
          "text": [
            "0 apple\n1 banana\n2 cherry\n"
          ]
        }
      ],
      "source": [
        "# use enumerate if you need to access the index value within the loop\n",
        "for index, fruit in enumerate(fruits):\n",
        "    print(index, fruit)"
      ]
    },
    {
      "cell_type": "markdown",
      "metadata": {
        "pycharm": {}
      },
      "source": [
        "**`for`/`else` loop:**"
      ]
    },
    {
      "cell_type": "code",
      "execution_count": 414,
      "metadata": {
        "collapsed": false,
        "pycharm": {}
      },
      "outputs": [
        {
          "name": "stdout",
          "output_type": "stream",
          "text": [
            "Found the banana!\n"
          ]
        }
      ],
      "source": [
        "for fruit in fruits:\n",
        "    if fruit \u003d\u003d \u0027banana\u0027:\n",
        "        print(\u0027Found the banana!\u0027)\n",
        "        break    # exit the loop and skip the \u0027else\u0027 block\n",
        "else:\n",
        "    # this block executes ONLY if the for loop completes without hitting \u0027break\u0027\n",
        "    print(\"Can\u0027t find the banana\")"
      ]
    },
    {
      "cell_type": "markdown",
      "metadata": {
        "pycharm": {}
      },
      "source": [
        "**`while` loop:**"
      ]
    },
    {
      "cell_type": "code",
      "execution_count": 415,
      "metadata": {
        "collapsed": false,
        "pycharm": {}
      },
      "outputs": [
        {
          "name": "stdout",
          "output_type": "stream",
          "text": [
            "This will print 5 times\nThis will print 5 times\nThis will print 5 times\nThis will print 5 times\nThis will print 5 times\n"
          ]
        }
      ],
      "source": [
        "count \u003d 0\n",
        "while count \u003c 5:\n",
        "    print(\u0027This will print 5 times\u0027)\n",
        "    count +\u003d 1    # equivalent to \u0027count \u003d count + 1\u0027"
      ]
    },
    {
      "cell_type": "markdown",
      "metadata": {
        "pycharm": {}
      },
      "source": [
        "[\u003ca href\u003d\"#Python-Quick-Reference-by-Data-School\"\u003eBack to top\u003c/a\u003e]"
      ]
    },
    {
      "cell_type": "markdown",
      "metadata": {
        "pycharm": {}
      },
      "source": [
        "## 14. Comprehensions"
      ]
    },
    {
      "cell_type": "markdown",
      "metadata": {
        "pycharm": {}
      },
      "source": [
        "**List comprehension:**"
      ]
    },
    {
      "cell_type": "code",
      "execution_count": 416,
      "metadata": {
        "collapsed": false,
        "pycharm": {}
      },
      "outputs": [
        {
          "data": {
            "text/plain": [
              "[1, 8, 27, 64, 125]"
            ]
          },
          "execution_count": 416,
          "metadata": {},
          "output_type": "execute_result"
        }
      ],
      "source": [
        "# for loop to create a list of cubes\n",
        "nums \u003d [1, 2, 3, 4, 5]\n",
        "cubes \u003d []\n",
        "for num in nums:\n",
        "    cubes.append(num**3)\n",
        "cubes"
      ]
    },
    {
      "cell_type": "code",
      "execution_count": 417,
      "metadata": {
        "collapsed": false,
        "pycharm": {}
      },
      "outputs": [
        {
          "data": {
            "text/plain": [
              "[1, 8, 27, 64, 125]"
            ]
          },
          "execution_count": 417,
          "metadata": {},
          "output_type": "execute_result"
        }
      ],
      "source": [
        "# equivalent list comprehension\n",
        "cubes \u003d [num**3 for num in nums]\n",
        "cubes"
      ]
    },
    {
      "cell_type": "code",
      "execution_count": 418,
      "metadata": {
        "collapsed": false,
        "pycharm": {}
      },
      "outputs": [
        {
          "data": {
            "text/plain": [
              "[8, 64]"
            ]
          },
          "execution_count": 418,
          "metadata": {},
          "output_type": "execute_result"
        }
      ],
      "source": [
        "# for loop to create a list of cubes of even numbers\n",
        "cubes_of_even \u003d []\n",
        "for num in nums:\n",
        "    if num % 2 \u003d\u003d 0:\n",
        "        cubes_of_even.append(num**3)\n",
        "cubes_of_even"
      ]
    },
    {
      "cell_type": "code",
      "execution_count": 419,
      "metadata": {
        "collapsed": false,
        "pycharm": {}
      },
      "outputs": [
        {
          "data": {
            "text/plain": [
              "[8, 64]"
            ]
          },
          "execution_count": 419,
          "metadata": {},
          "output_type": "execute_result"
        }
      ],
      "source": [
        "# equivalent list comprehension\n",
        "# syntax: [expression for variable in iterable if condition]\n",
        "cubes_of_even \u003d [num**3 for num in nums if num % 2 \u003d\u003d 0]\n",
        "cubes_of_even"
      ]
    },
    {
      "cell_type": "code",
      "execution_count": 420,
      "metadata": {
        "collapsed": false,
        "pycharm": {}
      },
      "outputs": [
        {
          "data": {
            "text/plain": [
              "[1, 8, 9, 64, 25]"
            ]
          },
          "execution_count": 420,
          "metadata": {},
          "output_type": "execute_result"
        }
      ],
      "source": [
        "# for loop to cube even numbers and square odd numbers\n",
        "cubes_and_squares \u003d []\n",
        "for num in nums:\n",
        "    if num % 2 \u003d\u003d 0:\n",
        "        cubes_and_squares.append(num**3)\n",
        "    else:\n",
        "        cubes_and_squares.append(num**2)\n",
        "cubes_and_squares"
      ]
    },
    {
      "cell_type": "code",
      "execution_count": 421,
      "metadata": {
        "collapsed": false,
        "pycharm": {}
      },
      "outputs": [
        {
          "data": {
            "text/plain": [
              "[1, 8, 9, 64, 25]"
            ]
          },
          "execution_count": 421,
          "metadata": {},
          "output_type": "execute_result"
        }
      ],
      "source": [
        "# equivalent list comprehension (using a ternary expression)\n",
        "# syntax: [true_condition if condition else false_condition for variable in iterable]\n",
        "cubes_and_squares \u003d [num**3 if num % 2 \u003d\u003d 0 else num**2 for num in nums]\n",
        "cubes_and_squares"
      ]
    },
    {
      "cell_type": "code",
      "execution_count": 422,
      "metadata": {
        "collapsed": false,
        "pycharm": {}
      },
      "outputs": [
        {
          "data": {
            "text/plain": [
              "[1, 2, 3, 4]"
            ]
          },
          "execution_count": 422,
          "metadata": {},
          "output_type": "execute_result"
        }
      ],
      "source": [
        "# for loop to flatten a 2d-matrix\n",
        "matrix \u003d [[1, 2], [3, 4]]\n",
        "items \u003d []\n",
        "for row in matrix:\n",
        "    for item in row:\n",
        "        items.append(item)\n",
        "items"
      ]
    },
    {
      "cell_type": "code",
      "execution_count": 423,
      "metadata": {
        "collapsed": false,
        "pycharm": {}
      },
      "outputs": [
        {
          "data": {
            "text/plain": [
              "[1, 2, 3, 4]"
            ]
          },
          "execution_count": 423,
          "metadata": {},
          "output_type": "execute_result"
        }
      ],
      "source": [
        "# equivalent list comprehension\n",
        "items \u003d [item for row in matrix\n",
        "              for item in row]\n",
        "items"
      ]
    },
    {
      "cell_type": "markdown",
      "metadata": {
        "pycharm": {}
      },
      "source": [
        "**Set comprehension:**"
      ]
    },
    {
      "cell_type": "code",
      "execution_count": 424,
      "metadata": {
        "collapsed": false,
        "pycharm": {}
      },
      "outputs": [
        {
          "data": {
            "text/plain": [
              "{5, 6}"
            ]
          },
          "execution_count": 424,
          "metadata": {},
          "output_type": "execute_result"
        }
      ],
      "source": [
        "fruits \u003d [\u0027apple\u0027, \u0027banana\u0027, \u0027cherry\u0027]\n",
        "unique_lengths \u003d {len(fruit) for fruit in fruits}\n",
        "unique_lengths"
      ]
    },
    {
      "cell_type": "markdown",
      "metadata": {
        "pycharm": {}
      },
      "source": [
        "**Dictionary comprehension:**"
      ]
    },
    {
      "cell_type": "code",
      "execution_count": 425,
      "metadata": {
        "collapsed": false,
        "pycharm": {}
      },
      "outputs": [
        {
          "data": {
            "text/plain": [
              "{\u0027apple\u0027: 5, \u0027banana\u0027: 6, \u0027cherry\u0027: 6}"
            ]
          },
          "execution_count": 425,
          "metadata": {},
          "output_type": "execute_result"
        }
      ],
      "source": [
        "fruit_lengths \u003d {fruit:len(fruit) for fruit in fruits}\n",
        "fruit_lengths"
      ]
    },
    {
      "cell_type": "code",
      "execution_count": 426,
      "metadata": {
        "collapsed": false,
        "pycharm": {}
      },
      "outputs": [
        {
          "data": {
            "text/plain": [
              "{\u0027apple\u0027: 0, \u0027banana\u0027: 1, \u0027cherry\u0027: 2}"
            ]
          },
          "execution_count": 426,
          "metadata": {},
          "output_type": "execute_result"
        }
      ],
      "source": [
        "fruit_indices \u003d {fruit:index for index, fruit in enumerate(fruits)}\n",
        "fruit_indices"
      ]
    },
    {
      "cell_type": "markdown",
      "metadata": {
        "pycharm": {}
      },
      "source": [
        "[\u003ca href\u003d\"#Python-Quick-Reference-by-Data-School\"\u003eBack to top\u003c/a\u003e]"
      ]
    },
    {
      "cell_type": "markdown",
      "metadata": {
        "pycharm": {}
      },
      "source": [
        "## 15. Map and Filter"
      ]
    },
    {
      "cell_type": "markdown",
      "metadata": {
        "pycharm": {}
      },
      "source": [
        "**`map` applies a function to every element of a sequence and returns a list (Python 2) or iterator (Python 3):**"
      ]
    },
    {
      "cell_type": "code",
      "execution_count": 427,
      "metadata": {
        "collapsed": false,
        "pycharm": {}
      },
      "outputs": [
        {
          "data": {
            "text/plain": [
              "\u003cmap at 0x23fe9f5b748\u003e"
            ]
          },
          "execution_count": 427,
          "metadata": {},
          "output_type": "execute_result"
        }
      ],
      "source": [
        "simpsons \u003d [\u0027homer\u0027, \u0027marge\u0027, \u0027bart\u0027]\n",
        "map(len, simpsons)"
      ]
    },
    {
      "cell_type": "code",
      "execution_count": 428,
      "metadata": {
        "collapsed": false,
        "pycharm": {}
      },
      "outputs": [
        {
          "data": {
            "text/plain": [
              "[5, 5, 4]"
            ]
          },
          "execution_count": 428,
          "metadata": {},
          "output_type": "execute_result"
        }
      ],
      "source": [
        "# equivalent list comprehension\n",
        "[len(word) for word in simpsons]"
      ]
    },
    {
      "cell_type": "code",
      "execution_count": 429,
      "metadata": {
        "collapsed": false,
        "pycharm": {}
      },
      "outputs": [
        {
          "data": {
            "text/plain": [
              "\u003cmap at 0x23fe9f5b390\u003e"
            ]
          },
          "execution_count": 429,
          "metadata": {},
          "output_type": "execute_result"
        }
      ],
      "source": [
        "map(lambda word: word[-1], simpsons)"
      ]
    },
    {
      "cell_type": "code",
      "execution_count": 430,
      "metadata": {
        "collapsed": false,
        "pycharm": {}
      },
      "outputs": [
        {
          "data": {
            "text/plain": [
              "[\u0027r\u0027, \u0027e\u0027, \u0027t\u0027]"
            ]
          },
          "execution_count": 430,
          "metadata": {},
          "output_type": "execute_result"
        }
      ],
      "source": [
        "# equivalent list comprehension\n",
        "[word[-1] for word in simpsons]"
      ]
    },
    {
      "cell_type": "markdown",
      "metadata": {
        "pycharm": {}
      },
      "source": [
        "**`filter` returns a list (Python 2) or iterator (Python 3) containing the elements from a sequence for which a condition is `True`:**"
      ]
    },
    {
      "cell_type": "code",
      "execution_count": 431,
      "metadata": {
        "collapsed": false,
        "pycharm": {}
      },
      "outputs": [
        {
          "data": {
            "text/plain": [
              "\u003cfilter at 0x23fe9f5b0b8\u003e"
            ]
          },
          "execution_count": 431,
          "metadata": {},
          "output_type": "execute_result"
        }
      ],
      "source": [
        "nums \u003d range(5)\n",
        "filter(lambda x: x % 2 \u003d\u003d 0, nums)"
      ]
    },
    {
      "cell_type": "code",
      "execution_count": 432,
      "metadata": {
        "collapsed": false,
        "pycharm": {}
      },
      "outputs": [
        {
          "data": {
            "text/plain": [
              "[0, 2, 4]"
            ]
          },
          "execution_count": 432,
          "metadata": {},
          "output_type": "execute_result"
        }
      ],
      "source": [
        "# equivalent list comprehension\n",
        "[num for num in nums if num % 2 \u003d\u003d 0]"
      ]
    },
    {
      "cell_type": "markdown",
      "metadata": {
        "pycharm": {}
      },
      "source": [
        "[\u003ca href\u003d\"#Python-Quick-Reference-by-Data-School\"\u003eBack to top\u003c/a\u003e]"
      ]
    }
  ],
  "metadata": {
    "kernelspec": {
      "display_name": "Python 2",
      "language": "python",
      "name": "python2"
    },
    "language_info": {
      "codemirror_mode": {
        "name": "ipython",
        "version": 2
      },
      "file_extension": ".py",
      "mimetype": "text/x-python",
      "name": "python",
      "nbconvert_exporter": "python",
      "pygments_lexer": "ipython2",
      "version": "2.7.11"
    }
  },
  "nbformat": 4,
  "nbformat_minor": 0
}