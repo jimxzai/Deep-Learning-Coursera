{
 "cells": [
  {
   "cell_type": "code",
   "execution_count": 25,
   "metadata": {
    "collapsed": true
   },
   "outputs": [
    {
     "data": {
      "text/plain": [
       "[0, 2, 4]"
      ]
     },
     "execution_count": 39,
     "metadata": {},
     "output_type": "execute_result"
    }
   ],
   "source": [
    "'''\n",
    "Thanks to \n",
    "Python Quick Reference\n",
    "https://github.com/justmarkham/python-reference\n",
    "\n",
    "migrated to noteboo:\n",
    "\n",
    "By Kevin Markham (kevin@dataschool.io)\n",
    "http://www.dataschool.io\n",
    "\n",
    "Table of Contents:\n",
    "    Imports\n",
    "    Data Types\n",
    "    Math\n",
    "    Comparisons and Boolean Operations\n",
    "    Conditional Statements\n",
    "    Lists\n",
    "    Tuples\n",
    "    Strings\n",
    "    Dictionaries\n",
    "    Sets\n",
    "    Defining Functions\n",
    "    Anonymous (Lambda) Functions\n",
    "    For Loops and While Loops\n",
    "    Comprehensions\n",
    "    Map and Filter\n",
    "'''\n",
    "\n",
    "\n",
    "\n",
    "### IMPORTS ###\n",
    "\n",
    "# 'generic import' of math module\n",
    "import math\n",
    "math.sqrt(25)\n",
    "\n",
    "# import a function\n",
    "from math import sqrt\n",
    "sqrt(25)    # no longer have to reference the module\n",
    "\n",
    "# import multiple functions at once\n",
    "from math import cos, floor\n",
    "\n",
    "# import all functions in a module (generally discouraged)\n",
    "from csv import *\n",
    "\n",
    "# define an alias\n",
    "import datetime as dt\n",
    "\n",
    "# show all functions in math module\n",
    "dir(math)\n"
   ]
  },
  {
   "cell_type": "code",
   "execution_count": 26,
   "metadata": {
    "collapsed": true
   },
   "outputs": [
    {
     "data": {
      "text/plain": [
       "[0, 2, 4]"
      ]
     },
     "execution_count": 39,
     "metadata": {},
     "output_type": "execute_result"
    }
   ],
   "source": [
    "\n",
    "\n",
    "### DATA TYPES ###\n",
    "\n",
    "# determine the type of an object\n",
    "type(2)         # returns 'int'\n",
    "type(2.0)       # returns 'float'\n",
    "type('two')     # returns 'str'\n",
    "type(True)      # returns 'bool'\n",
    "type(None)      # returns 'NoneType'\n",
    "\n",
    "# check if an object is of a given type\n",
    "isinstance(2.0, int)            # returns False\n",
    "isinstance(2.0, (int, float))   # returns True\n",
    "\n",
    "# convert an object to a given type\n",
    "float(2)\n",
    "int(2.9)\n",
    "str(2.9)\n",
    "\n",
    "# zero, None, and empty containers are converted to False\n",
    "bool(0)\n",
    "bool(None)\n",
    "bool('')    # empty string\n",
    "bool([])    # empty list\n",
    "bool({})    # empty dictionary\n",
    "\n",
    "# non-empty containers and non-zeros are converted to True\n",
    "bool(2)\n",
    "bool('two')\n",
    "bool([2])\n"
   ]
  },
  {
   "cell_type": "code",
   "execution_count": 27,
   "metadata": {
    "collapsed": true
   },
   "outputs": [
    {
     "data": {
      "text/plain": [
       "[0, 2, 4]"
      ]
     },
     "execution_count": 39,
     "metadata": {},
     "output_type": "execute_result"
    }
   ],
   "source": [
    "\n",
    "### MATH ###\n",
    "\n",
    "# basic operations\n",
    "10 + 4          # add (returns 14)\n",
    "10 - 4          # subtract (returns 6)\n",
    "10 * 4          # multiply (returns 40)\n",
    "10 ** 4         # exponent (returns 10000)\n",
    "5 % 4           # modulo (returns 1) - computes the remainder\n",
    "10 / 4          # divide (returns 2 in Python 2, returns 2.5 in Python 3)\n",
    "10 / float(4)   # divide (returns 2.5)\n"
   ]
  },
  {
   "cell_type": "code",
   "execution_count": 28,
   "metadata": {
    "collapsed": true
   },
   "outputs": [
    {
     "data": {
      "text/plain": [
       "[0, 2, 4]"
      ]
     },
     "execution_count": 39,
     "metadata": {},
     "output_type": "execute_result"
    }
   ],
   "source": [
    "\n",
    "# force '/' in Python 2 to perform 'true division' (unnecessary in Python 3)\n",
    "from __future__ import division\n",
    "10 / 4          # true division (returns 2.5)\n",
    "10 // 4         # floor division (returns 2)\n",
    "\n",
    "\n",
    "\n",
    "### COMPARISONS AND BOOLEAN OPERATIONS ###\n",
    "\n",
    "# assignment statement\n",
    "x = 5\n",
    "\n",
    "# comparisons (these return True)\n",
    "x > 3\n",
    "x >= 3\n",
    "x != 3\n",
    "x == 5\n",
    "\n",
    "# boolean operations (these return True)\n",
    "5 > 3 and 6 > 3\n",
    "5 > 3 or 5 < 3\n",
    "not False\n",
    "False or not False and True     # evaluation order: not, and, or\n"
   ]
  },
  {
   "cell_type": "code",
   "execution_count": 29,
   "metadata": {
    "collapsed": true
   },
   "outputs": [
    {
     "data": {
      "text/plain": [
       "[0, 2, 4]"
      ]
     },
     "execution_count": 39,
     "metadata": {},
     "output_type": "execute_result"
    }
   ],
   "source": [
    "\n",
    "\n",
    "### CONDITIONAL STATEMENTS ###\n",
    "\n",
    "# if statement\n",
    "if x > 0:\n",
    "    print('positive')\n",
    "\n",
    "# if/else statement\n",
    "if x > 0:\n",
    "    print('positive')\n",
    "else:\n",
    "    print('zero or negative')\n",
    "\n",
    "# if/elif/else statement\n",
    "if x > 0:\n",
    "    print('positive')\n",
    "elif x == 0:\n",
    "    print('zero')\n",
    "else:\n",
    "    print('negative')\n",
    "\n",
    "# single-line if statement (sometimes discouraged)\n",
    "if x > 0: print('positive')\n",
    "\n",
    "# single-line if/else statement (sometimes discouraged)\n",
    "# known as a 'ternary operator'\n",
    "'positive' if x > 0 else 'zero or negative'\n"
   ]
  },
  {
   "cell_type": "code",
   "execution_count": 30,
   "metadata": {
    "collapsed": true
   },
   "outputs": [
    {
     "data": {
      "text/plain": [
       "[0, 2, 4]"
      ]
     },
     "execution_count": 39,
     "metadata": {},
     "output_type": "execute_result"
    }
   ],
   "source": [
    "\n",
    "\n",
    "### LISTS ###\n",
    "## properties: ordered, iterable, mutable, can contain multiple data types\n",
    "\n",
    "# create an empty list (two ways)\n",
    "empty_list = []\n",
    "empty_list = list()\n",
    "\n",
    "# create a list\n",
    "simpsons = ['homer', 'marge', 'bart']\n",
    "\n",
    "# examine a list\n",
    "simpsons[0]     # print element 0 ('homer')\n",
    "len(simpsons)   # returns the length (3)\n",
    "\n",
    "# modify a list (does not return the list)\n",
    "simpsons.append('lisa')                 # append element to end\n",
    "simpsons.extend(['itchy', 'scratchy'])  # append multiple elements to end\n",
    "simpsons.insert(0, 'maggie')            # insert element at index 0 (shifts everything right)\n",
    "simpsons.remove('bart')                 # search for first instance and remove it\n",
    "simpsons.pop(0)                         # remove element 0 and return it\n",
    "del simpsons[0]                         # remove element 0 (does not return it)\n",
    "simpsons[0] = 'krusty'                  # replace element 0\n",
    "\n",
    "# concatenate lists (slower than 'extend' method)\n",
    "neighbors = simpsons + ['ned', 'rod', 'todd']\n",
    "\n",
    "# find elements in a list\n",
    "simpsons.count('lisa')      # counts the number of instances\n",
    "simpsons.index('itchy')     # returns index of first instance\n",
    "\n",
    "# list slicing [start:end:step]\n",
    "weekdays = ['mon', 'tues', 'wed', 'thurs', 'fri']\n",
    "weekdays[0]         # element 0\n",
    "weekdays[0:3]       # elements 0, 1, 2\n",
    "weekdays[:3]        # elements 0, 1, 2\n",
    "weekdays[3:]        # elements 3, 4\n",
    "weekdays[-1]        # last element (element 4)\n",
    "weekdays[::2]       # every 2nd element (0, 2, 4)\n",
    "weekdays[::-1]      # backwards (4, 3, 2, 1, 0)\n",
    "\n",
    "# alternative method for returning the list backwards\n",
    "list(reversed(weekdays))\n",
    "\n",
    "# sort a list in place (modifies but does not return the list)\n",
    "simpsons.sort()\n",
    "simpsons.sort(reverse=True)     # sort in reverse\n",
    "simpsons.sort(key=len)          # sort by a key\n",
    "\n",
    "# return a sorted list (does not modify the original list)\n",
    "sorted(simpsons)\n",
    "sorted(simpsons, reverse=True)\n",
    "sorted(simpsons, key=len)\n",
    "\n",
    "# insert into an already sorted list, and keep it sorted\n",
    "num = [10, 20, 40, 50]\n",
    "from bisect import insort\n",
    "insort(num, 30)\n",
    "\n",
    "# create a second reference to the same list\n",
    "same_num = num\n",
    "same_num[0] = 0         # modifies both 'num' and 'same_num'\n",
    "\n",
    "# copy a list (two ways)\n",
    "new_num = num[:]\n",
    "new_num = list(num)\n",
    "\n",
    "# examine objects\n",
    "num is same_num         # returns True (checks whether they are the same object)\n",
    "num is new_num          # returns False\n",
    "num == same_num         # returns True (checks whether they have the same contents)\n",
    "num == new_num          # returns True\n"
   ]
  },
  {
   "cell_type": "code",
   "execution_count": 31,
   "metadata": {
    "collapsed": true
   },
   "outputs": [
    {
     "data": {
      "text/plain": [
       "[0, 2, 4]"
      ]
     },
     "execution_count": 39,
     "metadata": {},
     "output_type": "execute_result"
    }
   ],
   "source": [
    "\n",
    "\n",
    "### TUPLES ###\n",
    "## properties: ordered, iterable, immutable, can contain multiple data types\n",
    "## like lists, but they don't change size\n",
    "\n",
    "# create a tuple\n",
    "digits = (0, 1, 'two')          # create a tuple directly\n",
    "digits = tuple([0, 1, 'two'])   # create a tuple from a list\n",
    "zero = (0,)                     # trailing comma is required to indicate it's a tuple\n",
    "\n",
    "# examine a tuple\n",
    "digits[2]           # returns 'two'\n",
    "len(digits)         # returns 3\n",
    "digits.count(0)     # counts the number of instances of that value (1)\n",
    "digits.index(1)     # returns the index of the first instance of that value (1)\n",
    "\n",
    "# elements of a tuple cannot be modified\n",
    "# digits[2] = 2       # throws an error  TypeError: 'tuple' object does not support item assignment\n",
    "\n",
    "# concatenate tuples\n",
    "digits = digits + (3, 4)\n",
    "\n",
    "# create a single tuple with elements repeated (also works with lists)\n",
    "(3, 4) * 2          # returns (3, 4, 3, 4)\n",
    "\n",
    "# sort a list of tuples\n",
    "tens = [(20, 60), (10, 40), (20, 30)]\n",
    "sorted(tens)        # sorts by first element in tuple, then second element\n",
    "                    #   returns [(10, 40), (20, 30), (20, 60)]\n",
    "\n",
    "# tuple unpacking\n",
    "bart = ('male', 10, 'simpson')  # create a tuple\n",
    "(sex, age, surname) = bart      # assign three values at once\n"
   ]
  },
  {
   "cell_type": "code",
   "execution_count": 32,
   "metadata": {
    "collapsed": true
   },
   "outputs": [
    {
     "data": {
      "text/plain": [
       "[0, 2, 4]"
      ]
     },
     "execution_count": 39,
     "metadata": {},
     "output_type": "execute_result"
    }
   ],
   "source": [
    "\n",
    "\n",
    "### STRINGS ###\n",
    "## properties: iterable, immutable\n",
    "\n",
    "# create a string\n",
    "s = str(42)         # convert another data type into a string\n",
    "s = 'I like you'\n",
    "\n",
    "# examine a string\n",
    "s[0]                # returns 'I'\n",
    "len(s)              # returns 10\n",
    "\n",
    "# string slicing is like list slicing\n",
    "s[:6]               # returns 'I like'\n",
    "s[7:]               # returns 'you'\n",
    "s[-1]               # returns 'u'\n",
    "\n",
    "# basic string methods (does not modify the original string)\n",
    "s.lower()           # returns 'i like you'\n",
    "s.upper()           # returns 'I LIKE YOU'\n",
    "s.startswith('I')   # returns True\n",
    "s.endswith('you')   # returns True\n",
    "s.isdigit()         # returns False (returns True if every character in the string is a digit)\n",
    "s.find('like')      # returns index of first occurrence (2), but doesn't support regex\n",
    "s.find('hate')      # returns -1 since not found\n",
    "s.replace('like', 'love')    # replaces all instances of 'like' with 'love'\n",
    "\n",
    "# split a string into a list of substrings separated by a delimiter\n",
    "s.split(' ')        # returns ['I', 'like', 'you']\n",
    "s.split()           # equivalent (since space is the default delimiter)\n",
    "s2 = 'a, an, the'\n",
    "s2.split(',')       # returns ['a', ' an', ' the']\n",
    "\n",
    "# join a list of strings into one string using a delimiter\n",
    "stooges = ['larry', 'curly', 'moe']\n",
    "' '.join(stooges)   # returns 'larry curly moe'\n",
    "\n",
    "# concatenate strings\n",
    "s3 = 'The meaning of life is'\n",
    "s4 = '42'\n",
    "s3 + ' ' + s4       # returns 'The meaning of life is 42'\n",
    "\n",
    "# remove whitespace from start and end of a string\n",
    "s5 = '  ham and cheese  '\n",
    "s5.strip()          # returns 'ham and cheese'\n",
    "\n",
    "# string substitutions: all of these return 'raining cats and dogs'\n",
    "'raining %s and %s' % ('cats', 'dogs')                       # old way\n",
    "'raining {} and {}'.format('cats', 'dogs')                   # new way\n",
    "'raining {arg1} and {arg2}'.format(arg1='cats', arg2='dogs') # named arguments\n",
    "\n",
    "# string formatting\n",
    "# more examples: https://mkaz.blog/code/python-string-format-cookbook/\n",
    "'pi is {:.2f}'.format(3.14159)      # returns 'pi is 3.14'\n",
    "\n",
    "# normal strings versus raw strings\n",
    "print('first line\\nsecond line')    # normal strings allow for escaped characters\n",
    "print(r'first line\\nfirst line')    # raw strings treat backslashes as literal characters\n"
   ]
  },
  {
   "cell_type": "code",
   "execution_count": 33,
   "metadata": {
    "collapsed": true
   },
   "outputs": [
    {
     "data": {
      "text/plain": [
       "[0, 2, 4]"
      ]
     },
     "execution_count": 39,
     "metadata": {},
     "output_type": "execute_result"
    }
   ],
   "source": [
    "\n",
    "\n",
    "### DICTIONARIES ###\n",
    "## properties: unordered, iterable, mutable, can contain multiple data types\n",
    "## made of key-value pairs\n",
    "## keys must be unique, and can be strings, numbers, or tuples\n",
    "## values can be any type\n",
    "\n",
    "# create an empty dictionary (two ways)\n",
    "empty_dict = {}\n",
    "empty_dict = dict()\n",
    "\n",
    "# create a dictionary (two ways)\n",
    "family = {'dad':'homer', 'mom':'marge', 'size':6}\n",
    "family = dict(dad='homer', mom='marge', size=6)\n",
    "\n",
    "# convert a list of tuples into a dictionary\n",
    "list_of_tuples = [('dad', 'homer'), ('mom', 'marge'), ('size', 6)]\n",
    "family = dict(list_of_tuples)\n",
    "\n",
    "# examine a dictionary\n",
    "family['dad']       # returns 'homer'\n",
    "len(family)         # returns 3\n",
    "'mom' in family     # returns True\n",
    "'marge' in family   # returns False (only checks keys)\n",
    "\n",
    "# returns a list (Python 2) or an iterable view (Python 3)\n",
    "family.keys()       # keys: ['dad', 'mom', 'size']\n",
    "family.values()     # values: ['homer', 'marge', 6]\n",
    "family.items()      # key-value pairs: [('dad', 'homer'), ('mom', 'marge'), ('size', 6)]\n",
    "\n",
    "# modify a dictionary (does not return the dictionary)\n",
    "family['cat'] = 'snowball'              # add a new entry\n",
    "family['cat'] = 'snowball ii'           # edit an existing entry\n",
    "del family['cat']                       # delete an entry\n",
    "family['kids'] = ['bart', 'lisa']       # dictionary value can be a list\n",
    "family.pop('dad')                       # remove an entry and return the value ('homer')\n",
    "family.update({'baby':'maggie', 'grandpa':'abe'})   # add multiple entries\n",
    "\n",
    "# access values more safely with 'get'\n",
    "family['mom']                       # returns 'marge'\n",
    "family.get('mom')                   # equivalent\n",
    "#family['grandma']                   # throws an error since the key does not exist\n",
    "#family.get('grandma')               # returns None instead\n",
    "#family.get('grandma', 'not found')  # returns 'not found' (the default)\n",
    "\n",
    "# access a list element within a dictionary\n",
    "family['kids'][0]                   # returns 'bart'\n",
    "family['kids'].remove('lisa')       # removes 'lisa'\n",
    "\n",
    "# string substitution using a dictionary\n",
    "'youngest child is %(baby)s' % family   # returns 'youngest child is maggie'\n"
   ]
  },
  {
   "cell_type": "code",
   "execution_count": 34,
   "metadata": {
    "collapsed": true
   },
   "outputs": [
    {
     "data": {
      "text/plain": [
       "[0, 2, 4]"
      ]
     },
     "execution_count": 39,
     "metadata": {},
     "output_type": "execute_result"
    }
   ],
   "source": [
    "\n",
    "\n",
    "### SETS ###\n",
    "## properties: unordered, iterable, mutable, can contain multiple data types\n",
    "## made of unique elements (strings, numbers, or tuples)\n",
    "## like dictionaries, but with keys only (no values)\n",
    "\n",
    "# create an empty set\n",
    "empty_set = set()\n",
    "\n",
    "# create a set\n",
    "languages = {'python', 'r', 'java'}         # create a set directly\n",
    "snakes = set(['cobra', 'viper', 'python'])  # create a set from a list\n",
    "\n",
    "# examine a set\n",
    "len(languages)              # returns 3\n",
    "'python' in languages       # returns True\n",
    "\n",
    "# set operations\n",
    "languages & snakes          # returns intersection: {'python'}\n",
    "languages | snakes          # returns union: {'cobra', 'r', 'java', 'viper', 'python'}\n",
    "languages - snakes          # returns set difference: {'r', 'java'}\n",
    "snakes - languages          # returns set difference: {'cobra', 'viper'}\n",
    "\n",
    "# modify a set (does not return the set)\n",
    "languages.add('sql')        # add a new element\n",
    "languages.add('r')          # try to add an existing element (ignored, no error)\n",
    "languages.remove('java')    # remove an element\n",
    "#languages.remove('c')       # try to remove a non-existing element (throws an error # try to remove a non-existing element (throws an error)\n",
    "languages.discard('c')      # remove an element if present, but ignored otherwise\n",
    "languages.pop()             # remove and return an arbitrary element\n",
    "languages.clear()           # remove all elements\n",
    "languages.update(['go', 'spark'])  # add multiple elements (can also pass a set)\n",
    "\n",
    "# get a sorted list of unique elements from a list\n",
    "sorted(set([9, 0, 2, 1, 0]))    # returns [0, 1, 2, 9]\n"
   ]
  },
  {
   "cell_type": "code",
   "execution_count": 35,
   "metadata": {
    "collapsed": true
   },
   "outputs": [
    {
     "data": {
      "text/plain": [
       "[0, 2, 4]"
      ]
     },
     "execution_count": 39,
     "metadata": {},
     "output_type": "execute_result"
    }
   ],
   "source": [
    "\n",
    "\n",
    "### DEFINING FUNCTIONS ###\n",
    "\n",
    "# define a function with no arguments and no return values\n",
    "def print_text():\n",
    "    print('this is text')\n",
    "\n",
    "# call the function\n",
    "print_text()\n",
    "\n",
    "# define a function with one argument and no return values\n",
    "def print_this(x):\n",
    "    print(x)\n",
    "\n",
    "# call the function\n",
    "print_this(3)       # prints 3\n",
    "n = print_this(3)   # prints 3, but doesn't assign 3 to n\n",
    "                    #   because the function has no return statement\n",
    "\n",
    "# define a function with one argument and one return value\n",
    "def square_this(x):\n",
    "    return x**2\n",
    "\n",
    "# include an optional docstring to describe the effect of a function\n",
    "def square_this(x):\n",
    "    \"\"\"Return the square of a number.\"\"\"\n",
    "    return x**2\n",
    "\n",
    "# call the function\n",
    "square_this(3)          # prints 9\n",
    "var = square_this(3)    # assigns 9 to var, but does not print 9\n",
    "\n",
    "# define a function with two 'positional arguments' (no default values) and\n",
    "# one 'keyword argument' (has a default value)\n",
    "def calc(a, b, op='add'):\n",
    "    if op == 'add':\n",
    "        return a + b\n",
    "    elif op == 'sub':\n",
    "        return a - b\n",
    "    else:\n",
    "        print('valid operations are add and sub')\n",
    "\n",
    "# call the function\n",
    "calc(10, 4, op='add')   # returns 14\n",
    "calc(10, 4, 'add')      # also returns 14: unnamed arguments are inferred by position\n",
    "calc(10, 4)             # also returns 14: default for 'op' is 'add'\n",
    "calc(10, 4, 'sub')      # returns 6\n",
    "calc(10, 4, 'div')      # prints 'valid operations are add and sub'\n",
    "\n",
    "# use 'pass' as a placeholder if you haven't written the function body\n",
    "def stub():\n",
    "    pass\n",
    "\n",
    "# return two values from a single function\n",
    "def min_max(nums):\n",
    "    return min(nums), max(nums)\n",
    "\n",
    "# return values can be assigned to a single variable as a tuple\n",
    "nums = [1, 2, 3]\n",
    "min_max_num = min_max(nums)         # min_max_num = (1, 3)\n",
    "\n",
    "# return values can be assigned into multiple variables using tuple unpacking\n",
    "min_num, max_num = min_max(nums)    # min_num = 1, max_num = 3\n"
   ]
  },
  {
   "cell_type": "code",
   "execution_count": 36,
   "metadata": {
    "collapsed": true
   },
   "outputs": [
    {
     "data": {
      "text/plain": [
       "[0, 2, 4]"
      ]
     },
     "execution_count": 39,
     "metadata": {},
     "output_type": "execute_result"
    }
   ],
   "source": [
    "\n",
    "\n",
    "### ANONYMOUS (LAMBDA) FUNCTIONS ###\n",
    "## primarily used to temporarily define a function for use by another function\n",
    "\n",
    "# define a function the \"usual\" way\n",
    "def squared(x):\n",
    "    return x**2\n",
    "\n",
    "# define an identical function using lambda\n",
    "squared = lambda x: x**2\n",
    "\n",
    "# sort a list of strings by the last letter (without using lambda)\n",
    "simpsons = ['homer', 'marge', 'bart']\n",
    "def last_letter(word):\n",
    "    return word[-1]\n",
    "sorted(simpsons, key=last_letter)\n",
    "\n",
    "# sort a list of strings by the last letter (using lambda)\n",
    "sorted(simpsons, key=lambda word: word[-1])\n"
   ]
  },
  {
   "cell_type": "code",
   "execution_count": 37,
   "metadata": {
    "collapsed": true
   },
   "outputs": [
    {
     "data": {
      "text/plain": [
       "[0, 2, 4]"
      ]
     },
     "execution_count": 39,
     "metadata": {},
     "output_type": "execute_result"
    }
   ],
   "source": [
    "\n",
    "\n",
    "### FOR LOOPS AND WHILE LOOPS ###\n",
    "\n",
    "# range returns a list of integers (Python 2) or a sequence (Python 3)\n",
    "range(0, 3)     # returns [0, 1, 2]: includes start value but excludes stop value\n",
    "range(3)        # equivalent: default start value is 0\n",
    "range(0, 5, 2)  # returns [0, 2, 4]: third argument is the step value\n",
    "\n",
    "# Python 2 only: use xrange to create a sequence rather than a list (saves memory)\n",
    "# xrange(100, 100000, 5)\n",
    "\n",
    "# for loop (not the recommended style)\n",
    "fruits = ['apple', 'banana', 'cherry']\n",
    "for i in range(len(fruits)):\n",
    "    print(fruits[i].upper())\n",
    "\n",
    "# for loop (recommended style)\n",
    "for fruit in fruits:\n",
    "    print(fruit.upper())\n",
    "\n",
    "# iterate through two things at once (using tuple unpacking)\n",
    "family = {'dad':'homer', 'mom':'marge', 'size':6}\n",
    "for key, value in family.items():\n",
    "    print(key, value)\n",
    "\n",
    "# use enumerate if you need to access the index value within the loop\n",
    "for index, fruit in enumerate(fruits):\n",
    "    print(index, fruit)\n",
    "\n",
    "# for/else loop\n",
    "for fruit in fruits:\n",
    "    if fruit == 'banana':\n",
    "        print('Found the banana!')\n",
    "        break    # exit the loop and skip the 'else' block\n",
    "else:\n",
    "    # this block executes ONLY if the for loop completes without hitting 'break'\n",
    "    print(\"Can't find the banana\")\n",
    "\n",
    "# while loop\n",
    "count = 0\n",
    "while count < 5:\n",
    "    print('This will print 5 times')\n",
    "    count += 1    # equivalent to 'count = count + 1'\n"
   ]
  },
  {
   "cell_type": "code",
   "execution_count": 38,
   "metadata": {
    "collapsed": true
   },
   "outputs": [
    {
     "data": {
      "text/plain": [
       "[0, 2, 4]"
      ]
     },
     "execution_count": 39,
     "metadata": {},
     "output_type": "execute_result"
    }
   ],
   "source": [
    "\n",
    "\n",
    "### COMPREHENSIONS ###\n",
    "\n",
    "# for loop to create a list of cubes\n",
    "nums = [1, 2, 3, 4, 5]\n",
    "cubes = []\n",
    "for num in nums:\n",
    "    cubes.append(num**3)\n",
    "\n",
    "# equivalent list comprehension\n",
    "cubes = [num**3 for num in nums]    # [1, 8, 27, 64, 125]\n",
    "\n",
    "# for loop to create a list of cubes of even numbers\n",
    "cubes_of_even = []\n",
    "for num in nums:\n",
    "    if num % 2 == 0:\n",
    "        cubes_of_even.append(num**3)\n",
    "\n",
    "# equivalent list comprehension\n",
    "# syntax: [expression for variable in iterable if condition]\n",
    "cubes_of_even = [num**3 for num in nums if num % 2 == 0]    # [8, 64]\n",
    "\n",
    "# for loop to cube even numbers and square odd numbers\n",
    "cubes_and_squares = []\n",
    "for num in nums:\n",
    "    if num % 2 == 0:\n",
    "        cubes_and_squares.append(num**3)\n",
    "    else:\n",
    "        cubes_and_squares.append(num**2)\n",
    "\n",
    "# equivalent list comprehension (using a ternary expression)\n",
    "# syntax: [true_condition if condition else false_condition for variable in iterable]\n",
    "cubes_and_squares = [num**3 if num % 2 == 0 else num**2 for num in nums]    # [1, 8, 9, 64, 25]\n",
    "\n",
    "# for loop to flatten a 2d-matrix\n",
    "matrix = [[1, 2], [3, 4]]\n",
    "items = []\n",
    "for row in matrix:\n",
    "    for item in row:\n",
    "        items.append(item)\n",
    "\n",
    "# equivalent list comprehension\n",
    "items = [item for row in matrix\n",
    "              for item in row]      # [1, 2, 3, 4]\n",
    "\n",
    "# set comprehension\n",
    "fruits = ['apple', 'banana', 'cherry']\n",
    "unique_lengths = {len(fruit) for fruit in fruits}   # {5, 6}\n",
    "\n",
    "# dictionary comprehension\n",
    "fruit_lengths = {fruit:len(fruit) for fruit in fruits}              # {'apple': 5, 'banana': 6, 'cherry': 6}\n",
    "fruit_indices = {fruit:index for index, fruit in enumerate(fruits)} # {'apple': 0, 'banana': 1, 'cherry': 2}\n"
   ]
  },
  {
   "cell_type": "code",
   "execution_count": 39,
   "metadata": {
    "collapsed": true
   },
   "outputs": [
    {
     "data": {
      "text/plain": [
       "[0, 2, 4]"
      ]
     },
     "execution_count": 39,
     "metadata": {},
     "output_type": "execute_result"
    }
   ],
   "source": [
    "\n",
    "\n",
    "### MAP AND FILTER ###\n",
    "\n",
    "# 'map' applies a function to every element of a sequence\n",
    "# ...and returns a list (Python 2) or iterator (Python 3)\n",
    "simpsons = ['homer', 'marge', 'bart']\n",
    "map(len, simpsons)                      # returns [5, 5, 4]\n",
    "map(lambda word: word[-1], simpsons)    # returns ['r', 'e', 't']\n",
    "\n",
    "# equivalent list comprehensions\n",
    "[len(word) for word in simpsons]\n",
    "[word[-1] for word in simpsons]\n",
    "\n",
    "# 'filter' returns a list (Python 2) or iterator (Python 3) containing\n",
    "# ...the elements from a sequence for which a condition is True\n",
    "nums = range(5)\n",
    "filter(lambda x: x % 2 == 0, nums)      # returns [0, 2, 4]\n",
    "\n",
    "# equivalent list comprehension\n",
    "[num for num in nums if num % 2 == 0]\n"
   ]
  },
  {
   "cell_type": "code",
   "execution_count": 40,
   "metadata": {},
   "outputs": [],
   "source": []
  }
 ],
 "metadata": {
  "kernelspec": {
   "display_name": "Python 2",
   "language": "python",
   "name": "python2"
  },
  "language_info": {
   "codemirror_mode": {
    "name": "ipython",
    "version": 2
   },
   "file_extension": ".py",
   "mimetype": "text/x-python",
   "name": "python",
   "nbconvert_exporter": "python",
   "pygments_lexer": "ipython2",
   "version": "2.7.6"
  }
 },
 "nbformat": 4,
 "nbformat_minor": 0
}
